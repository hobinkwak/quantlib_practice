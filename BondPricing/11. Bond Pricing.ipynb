{
 "cells": [
  {
   "cell_type": "code",
   "execution_count": 1,
   "id": "36d8dc5b",
   "metadata": {
    "ExecuteTime": {
     "end_time": "2021-08-04T03:39:19.693625Z",
     "start_time": "2021-08-04T03:39:19.247818Z"
    }
   },
   "outputs": [],
   "source": [
    "import QuantLib as ql\n",
    "\n",
    "%load_ext autoreload\n",
    "%autoreload 2\n",
    "from ust_curve import *"
   ]
  },
  {
   "cell_type": "code",
   "execution_count": 6,
   "id": "542c8fa6",
   "metadata": {
    "ExecuteTime": {
     "end_time": "2021-08-04T01:10:05.151636Z",
     "start_time": "2021-08-04T01:09:32.168777Z"
    },
    "scrolled": true
   },
   "outputs": [
    {
     "name": "stdout",
     "output_type": "stream",
     "text": [
      "Clean Price = 105.33591217408635\n",
      "Accrued Interest = 0.3979452054794442\n",
      "Dirty Price = 105.73385737956579\n",
      "Yield to Maturity = 0.010744147455692295\n",
      "May 13th, 2020 0.8708604685979449\n",
      "November 13th, 2020 0.8797814207650356\n",
      "May 13th, 2021 0.8671663298151167\n",
      "November 15th, 2021 0.8917808219178092\n",
      "May 13th, 2022 0.8582191780821979\n",
      "November 14th, 2022 0.886986301369852\n",
      "May 15th, 2023 0.872602739726025\n",
      "November 13th, 2023 0.872602739726025\n",
      "May 13th, 2024 0.8708604685979449\n",
      "November 13th, 2024 0.8797814207650356\n",
      "May 13th, 2025 0.8671663298151167\n",
      "November 13th, 2025 0.8821917808219171\n",
      "May 13th, 2026 0.86780821917809\n",
      "November 13th, 2026 0.8821917808219171\n",
      "May 13th, 2027 0.86780821917809\n",
      "November 15th, 2027 0.8917808219178092\n",
      "May 15th, 2028 0.8708342690321169\n",
      "November 13th, 2028 0.8702185792349715\n",
      "May 14th, 2029 0.8719608503630516\n",
      "November 13th, 2029 0.8773972602739821\n",
      "November 13th, 2029 100.0\n",
      "Duration = 7.688516000355406\n",
      "Convexity = 65.63986348999147\n"
     ]
    }
   ],
   "source": [
    "# Basic Setup\n",
    "eval_date = GET_DATE()\n",
    "quote = GET_QUOTE(eval_date)\n",
    "curve = TREASURY_CURVE(eval_date, quote)\n",
    "# Handle, Engine\n",
    "curveHandle = ql.YieldTermStructureHandle(curve)\n",
    "bondEngine = ql.DiscountingBondEngine(curveHandle)\n",
    "\n",
    "\n",
    "\n",
    "# 고정 금리 채권 Fixed Rate Bond 구조\n",
    "# Treasury Bond Information\n",
    "issueDate = ql.Date(13, 11, 2019) #이때 발행된 채권\n",
    "maturityDate = ql.Date(13, 11, 2029) #10년짜리로 가정\n",
    "tenor = ql.Period(ql.Semiannual)  #미국국고채는 보통 6개월 단위 지급\n",
    "calendar = ql.UnitedStates()\n",
    "convention = ql.ModifiedFollowing\n",
    "dateGeneration = ql.DateGeneration.Backward\n",
    "endOfMonth=False\n",
    "schedule = ql.Schedule(issueDate,\n",
    "                      maturityDate,\n",
    "                      tenor,\n",
    "                      calendar,\n",
    "                      convention,\n",
    "                      convention,\n",
    "                      dateGeneration,\n",
    "                      endOfMonth)\n",
    "\n",
    "# 실제 거래 대금을 언제 주고 받을 것인가\n",
    "# 상품이 언제 인수도가 될 것인가\n",
    "# 1이라는 의미는 오늘 거래를 했으면 내일 대금이 나간다는 의미 \n",
    "# 보통 채권은 1\n",
    "settlementDays = 1\n",
    "faceAmount = 100\n",
    "coupon = [0.0175]  #1.75%\n",
    "dayCount = ql.ActualActual()\n",
    "\n",
    "# Fixed-rate bond\n",
    "fixedRateBond = ql.FixedRateBond(settlementDays,\n",
    "                                faceAmount,\n",
    "                                schedule,\n",
    "                                coupon,\n",
    "                                dayCount)\n",
    "\n",
    "\n",
    "# Conduct Pricing\n",
    "fixedRateBond.setPricingEngine(bondEngine)\n",
    "\n",
    "# print pricing result\n",
    "clean_price = fixedRateBond.cleanPrice()\n",
    "accrued_interest = fixedRateBond.accruedAmount()\n",
    "dirty_price = fixedRateBond.dirtyPrice()  # 클린 + 경과이자\n",
    "ytm = fixedRateBond.bondYield(dayCount, ql.Compounded, ql.Semiannual)  #만기수익률\n",
    "\n",
    "print(f\"Clean Price = {clean_price}\")   # 이 채권의 현재가격\n",
    "print(f\"Accrued Interest = {accrued_interest}\")\n",
    "print(f\"Dirty Price = {dirty_price}\")\n",
    "print(f\"Yield to Maturity = {ytm}\")\n",
    "\n",
    "# Generate CashFlow Table\n",
    "for cashflow in fixedRateBond.cashflows():\n",
    "    print(cashflow.date(), cashflow.amount())\n",
    "    \n",
    "# Calculate YTM\n",
    "# 듀레이션, 컨벡시티 계산하려면 InterestRate 클래스로 변환해줘야함.\n",
    "new_ytm = ql.InterestRate(fixedRateBond.bondYield(dayCount, ql.Compounded, ql.Semiannual), dayCount, ql.Compounded, ql.Semiannual)\n",
    "\n",
    "# Duration & Convexity\n",
    "duration = ql.BondFunctions.duration(fixedRateBond, new_ytm)\n",
    "convexity = ql.BondFunctions.convexity(fixedRateBond, new_ytm)\n",
    "print(f\"Duration = {duration}\")  #금리가 1%에서 2%로 1%상승하면 채권가격이 -8.58만큼 깎인다는 소리\n",
    "print(f\"Convexity = {convexity}\")"
   ]
  },
  {
   "cell_type": "code",
   "execution_count": null,
   "id": "2ea18c13",
   "metadata": {},
   "outputs": [],
   "source": []
  }
 ],
 "metadata": {
  "hide_input": false,
  "kernelspec": {
   "display_name": "Python 3",
   "language": "python",
   "name": "python3"
  },
  "language_info": {
   "codemirror_mode": {
    "name": "ipython",
    "version": 3
   },
   "file_extension": ".py",
   "mimetype": "text/x-python",
   "name": "python",
   "nbconvert_exporter": "python",
   "pygments_lexer": "ipython3",
   "version": "3.8.5"
  },
  "toc": {
   "base_numbering": 1,
   "nav_menu": {},
   "number_sections": true,
   "sideBar": true,
   "skip_h1_title": false,
   "title_cell": "Table of Contents",
   "title_sidebar": "Contents",
   "toc_cell": false,
   "toc_position": {},
   "toc_section_display": true,
   "toc_window_display": false
  },
  "varInspector": {
   "cols": {
    "lenName": 16,
    "lenType": 16,
    "lenVar": 40
   },
   "kernels_config": {
    "python": {
     "delete_cmd_postfix": "",
     "delete_cmd_prefix": "del ",
     "library": "var_list.py",
     "varRefreshCmd": "print(var_dic_list())"
    },
    "r": {
     "delete_cmd_postfix": ") ",
     "delete_cmd_prefix": "rm(",
     "library": "var_list.r",
     "varRefreshCmd": "cat(var_dic_list()) "
    }
   },
   "types_to_exclude": [
    "module",
    "function",
    "builtin_function_or_method",
    "instance",
    "_Feature"
   ],
   "window_display": false
  }
 },
 "nbformat": 4,
 "nbformat_minor": 5
}
