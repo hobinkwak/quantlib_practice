{
 "cells": [
  {
   "cell_type": "code",
   "execution_count": 1,
   "id": "ccb34626",
   "metadata": {
    "ExecuteTime": {
     "end_time": "2021-07-30T01:40:02.217668Z",
     "start_time": "2021-07-30T01:40:01.695194Z"
    }
   },
   "outputs": [],
   "source": [
    "import datetime\n",
    "import QuantLib as ql\n",
    "from selenium import webdriver\n",
    "\n",
    "options = webdriver.ChromeOptions()\n",
    "options.add_argument('headless')  #화면안나d오게"
   ]
  },
  {
   "cell_type": "code",
   "execution_count": 2,
   "id": "f622caaa",
   "metadata": {
    "ExecuteTime": {
     "end_time": "2021-08-09T15:17:57.074117Z",
     "start_time": "2021-08-09T15:17:57.057166Z"
    }
   },
   "outputs": [],
   "source": [
    "def GET_DATE():\n",
    "    date = ql.Date().todaysDate()\n",
    "    one_day = ql.Period(1, ql.Days)\n",
    "    last_bday = date - one_day\n",
    "    \n",
    "    us = ql.UnitedStates()\n",
    "    \n",
    "    while us.isBusinessDay(last_bday) == False:\n",
    "        last_bday -= one_day\n",
    "        \n",
    "    date = datetime.date(last_bday.year(),\n",
    "                         last_bday.month(),\n",
    "                         last_bday.dayOfMonth())\n",
    "    \n",
    "    return date\n",
    "\n",
    "eval_date = GET_DATE()"
   ]
  },
  {
   "cell_type": "code",
   "execution_count": 2,
   "id": "f10a71be",
   "metadata": {
    "ExecuteTime": {
     "end_time": "2021-07-30T01:40:02.921185Z",
     "start_time": "2021-07-30T01:40:02.857241Z"
    }
   },
   "outputs": [],
   "source": [
    "def GET_DATE():\n",
    "    date = ql.Date().todaysDate() \n",
    "    one_day = ql.Period(1, ql.Days)  \n",
    "    last_bday = date - one_day #오늘에서 하루 전 날짜.\n",
    "    \n",
    "    us = ql.UnitedStates()\n",
    "    \n",
    "    while us.isBusinessDay(last_bday) == False:\n",
    "        last_bday -= one_day\n",
    "    \n",
    "    date = datetime.date(last_bday.year(),\n",
    "                         last_bday.month(),\n",
    "                         last_bday.dayOfMonth())\n",
    "    \n",
    "    return date\n",
    "\n",
    "if __name__ == '__main__':   \n",
    "    # 파이참같은 툴에서 코드작성할 때, 작성한 파일을 테스트목적으로 직접 실행할 때\n",
    "    # 그럴 때는 이 아래의 코드가 실행됨\n",
    "    # 그러나 이 py파일을 다른 코드에서 땡겨서 쓸 때에는 if 이하의 코드가 실행되지 않음\n",
    "    \n",
    "    eval_date = GET_DATE()"
   ]
  },
  {
   "cell_type": "code",
   "execution_count": 3,
   "id": "ce219f94",
   "metadata": {
    "ExecuteTime": {
     "end_time": "2021-08-09T15:18:04.830500Z",
     "start_time": "2021-08-09T15:18:04.816539Z"
    }
   },
   "outputs": [
    {
     "data": {
      "text/plain": [
       "datetime.date(2021, 8, 9)"
      ]
     },
     "execution_count": 3,
     "metadata": {},
     "output_type": "execute_result"
    }
   ],
   "source": [
    "eval_date #오늘말고 직전 영업일이 언제냐"
   ]
  },
  {
   "cell_type": "markdown",
   "id": "c4b99d24",
   "metadata": {},
   "source": [
    "https://www.wsj.com/market-data/bonds"
   ]
  },
  {
   "cell_type": "markdown",
   "id": "defb70c2",
   "metadata": {},
   "source": [
    "5year : https://www.wsj.com/market-data/quotes/bond/BX/TMUBMUSD05Y?mod=md_bond_overview_quote"
   ]
  },
  {
   "cell_type": "code",
   "execution_count": 4,
   "id": "7331390b",
   "metadata": {
    "ExecuteTime": {
     "end_time": "2021-08-09T15:22:10.950475Z",
     "start_time": "2021-08-09T15:22:10.924543Z"
    }
   },
   "outputs": [],
   "source": [
    "def GET_QUOTE(eval_date):\n",
    "    driver = webdriver.Chrome('C:/jupyter_project/chromedriver.exe', options=options)\n",
    "    tenors = ['01M','03M','06M','01Y','02Y','03Y','05Y','07Y','10Y','30Y']\n",
    "    # 물론 시장에 있는 채권 다 가져와서 금리커브 만들 수도 잇겠지만\n",
    "    # 보통은 위처럼 주로 거래되는 놈들로만 만듦\n",
    "    \n",
    "    maturities = []\n",
    "    days = []\n",
    "    prices = []\n",
    "    coupons = []\n",
    "    \n",
    "    links = \"https://www.wsj.com/market-data/quotes/bond/BX/TMUBMUSD{}?mod=md_bond_overview_quote\"\n",
    "    \n",
    "    for i, tenor in enumerate(tenors):\n",
    "        driver.get(links.format(tenor))\n",
    "        html = driver.page_source  # 소스코드 저장\n",
    "        soup = BeautifulSoup(html, 'html.parser')\n",
    "        \n",
    "        #price\n",
    "        if i <= 3:  # 1년까지가지고옴 / 단기쪽이면 그냥 금리가지고 오고\n",
    "            data_src = soup.find('span', id='quote_val')\n",
    "            price = data_src.text # 0.094% (텍스트)\n",
    "            price = float(price[:-1])\n",
    "        else:   #2년이상은 100단위로 quote함\n",
    "            data_src = soup.find('span', id='price_quote_val') #2/32 이런거\n",
    "            price = data_src.text # 100 0/32 (텍스트)\n",
    "            price1 = float(price.split()[0])\n",
    "            price2, price3 = price.split()[1].split('/')[0], price.split()[1].split('/')[1]\n",
    "            price2, price3 = float(price2), float(price3)\n",
    "            price = price1 + (price2/price3)\n",
    "    \n",
    "        # Coupon\n",
    "        data_src2 = soup.find_all(\"span\", {'class':\"data_data\"})\n",
    "        coupon = data_src2[2].text\n",
    "        if coupon != '': #쿠폰이 있으면\n",
    "            coupon = float(coupon[:-1])\n",
    "        else:\n",
    "            coupon = 0.0\n",
    "            \n",
    "        # Maturity Date\n",
    "        maturity = data_src2[3].text\n",
    "        #텍스트를 datetime 객체로\n",
    "        maturity = datetime.datetime.strptime(maturity, '%m/%d/%y').date()\n",
    "        \n",
    "        \n",
    "        days.append((maturity - eval_date).days)  #만기와 평가일의 차이\n",
    "        prices.append(price)\n",
    "        coupons.append(coupon)\n",
    "        maturities.append(maturity)\n",
    "        \n",
    "    \n",
    "    #데이터프레임 만들기\n",
    "    df = pd.DataFrame([maturities, days, prices, coupons]).T\n",
    "    headers = ['maturity','days','price','coupon']\n",
    "    df.columns = headers\n",
    "    df.set_index('maturity', inplace=True)  #만기일이 index\n",
    "    return df\n",
    "        \n",
    "        "
   ]
  },
  {
   "cell_type": "code",
   "execution_count": 5,
   "id": "0fa8ed71",
   "metadata": {
    "ExecuteTime": {
     "end_time": "2021-08-09T15:22:47.900295Z",
     "start_time": "2021-08-09T15:22:13.546922Z"
    },
    "scrolled": false
   },
   "outputs": [
    {
     "data": {
      "text/html": [
       "<div>\n",
       "<style scoped>\n",
       "    .dataframe tbody tr th:only-of-type {\n",
       "        vertical-align: middle;\n",
       "    }\n",
       "\n",
       "    .dataframe tbody tr th {\n",
       "        vertical-align: top;\n",
       "    }\n",
       "\n",
       "    .dataframe thead th {\n",
       "        text-align: right;\n",
       "    }\n",
       "</style>\n",
       "<table border=\"1\" class=\"dataframe\">\n",
       "  <thead>\n",
       "    <tr style=\"text-align: right;\">\n",
       "      <th></th>\n",
       "      <th>days</th>\n",
       "      <th>price</th>\n",
       "      <th>coupon</th>\n",
       "    </tr>\n",
       "    <tr>\n",
       "      <th>maturity</th>\n",
       "      <th></th>\n",
       "      <th></th>\n",
       "      <th></th>\n",
       "    </tr>\n",
       "  </thead>\n",
       "  <tbody>\n",
       "    <tr>\n",
       "      <th>2021-09-07</th>\n",
       "      <td>29</td>\n",
       "      <td>0.048</td>\n",
       "      <td>0.0</td>\n",
       "    </tr>\n",
       "    <tr>\n",
       "      <th>2021-11-04</th>\n",
       "      <td>87</td>\n",
       "      <td>0.058</td>\n",
       "      <td>0.0</td>\n",
       "    </tr>\n",
       "    <tr>\n",
       "      <th>2022-02-03</th>\n",
       "      <td>178</td>\n",
       "      <td>0.058</td>\n",
       "      <td>0.0</td>\n",
       "    </tr>\n",
       "    <tr>\n",
       "      <th>2022-07-14</th>\n",
       "      <td>339</td>\n",
       "      <td>0.081</td>\n",
       "      <td>0.0</td>\n",
       "    </tr>\n",
       "    <tr>\n",
       "      <th>2023-07-31</th>\n",
       "      <td>721</td>\n",
       "      <td>99.25</td>\n",
       "      <td>0.125</td>\n",
       "    </tr>\n",
       "    <tr>\n",
       "      <th>2024-07-15</th>\n",
       "      <td>1071</td>\n",
       "      <td>99.28125</td>\n",
       "      <td>0.375</td>\n",
       "    </tr>\n",
       "    <tr>\n",
       "      <th>2026-07-31</th>\n",
       "      <td>1817</td>\n",
       "      <td>99.09375</td>\n",
       "      <td>0.625</td>\n",
       "    </tr>\n",
       "    <tr>\n",
       "      <th>2028-07-31</th>\n",
       "      <td>2548</td>\n",
       "      <td>99.125</td>\n",
       "      <td>1.0</td>\n",
       "    </tr>\n",
       "    <tr>\n",
       "      <th>2031-05-15</th>\n",
       "      <td>3566</td>\n",
       "      <td>102.3125</td>\n",
       "      <td>1.625</td>\n",
       "    </tr>\n",
       "    <tr>\n",
       "      <th>2051-05-15</th>\n",
       "      <td>10871</td>\n",
       "      <td>109.15625</td>\n",
       "      <td>2.375</td>\n",
       "    </tr>\n",
       "  </tbody>\n",
       "</table>\n",
       "</div>"
      ],
      "text/plain": [
       "             days      price coupon\n",
       "maturity                           \n",
       "2021-09-07     29      0.048    0.0\n",
       "2021-11-04     87      0.058    0.0\n",
       "2022-02-03    178      0.058    0.0\n",
       "2022-07-14    339      0.081    0.0\n",
       "2023-07-31    721      99.25  0.125\n",
       "2024-07-15   1071   99.28125  0.375\n",
       "2026-07-31   1817   99.09375  0.625\n",
       "2028-07-31   2548     99.125    1.0\n",
       "2031-05-15   3566   102.3125  1.625\n",
       "2051-05-15  10871  109.15625  2.375"
      ]
     },
     "execution_count": 5,
     "metadata": {},
     "output_type": "execute_result"
    }
   ],
   "source": [
    "rate_tabel = GET_QUOTE(eval_date)\n",
    "rate_tabel"
   ]
  },
  {
   "cell_type": "code",
   "execution_count": 23,
   "id": "159439e5",
   "metadata": {
    "ExecuteTime": {
     "end_time": "2021-07-30T02:50:30.724563Z",
     "start_time": "2021-07-30T02:50:30.655262Z"
    }
   },
   "outputs": [],
   "source": [
    "#얘를 활용해서, spot curve와 할인 curve를 만들어야함\n",
    "\n",
    "def TREASURY_CURVE(eval_date, rate_table):\n",
    "\n",
    "    # Divide Quotes 테이블을 무이표채 /이표채로 나눈다.\n",
    "    #미국단기 : 무이표채\n",
    "    tbill = rate_table[0:4]\n",
    "    tbond = rate_table[4:]\n",
    "\n",
    "    # Set Evaluation Date\n",
    "    eval_date = ql.Date(eval_date.day, eval_date.month, eval_date.year)\n",
    "    # 평가일을 특정일로 설정하곘다고 Global하게 선연\n",
    "    ql.Settings.instance().evaluationDate = eval_date\n",
    "\n",
    "    # Set Market Convention\n",
    "    # 미국 국채가 거래되는 시장관행 설정 (한국은 좀 다름)\n",
    "    # 커브 헬퍼에 필요한 컨벤션 완성.\n",
    "    calendar = ql.UnitedStates()\n",
    "    convention = ql.ModifiedFollowing\n",
    "    dayCounter = ql.ActualActual()  # 미국은 Act/Act방식 씀\n",
    "    endOfMonth = False  # 거래일이 월말일때, 나중의 이자지급일을 웜말로 할거니?\n",
    "    fixingDays = 1  # 다음 이자지급 구간에 적용되는 금리가 오늘 설정할 것인가...\n",
    "    # 오늘부터 6개월동안의 이자지급구간에 해닫되는 이자 금리를 설정할 떄\n",
    "    # 오늘에 해당하는 이자금리를 쓸 것인가. 아니면 하루 전에 미리 fixing을 할 것인가.\n",
    "    # 아니면 2일전에...\n",
    "    faceAmount = 100  # 액면가가 미국국채는 100달러 기준\n",
    "    frequency = ql.Period(ql.Semiannual)\n",
    "    dateGeneration = ql.DateGeneration.Backward\n",
    "\n",
    "    # COnstruct T-Bill helpers\n",
    "    bill_helpers = [ql.DepositRateHelper(ql.QuoteHandle(ql.SimpleQuote(price/100.0)),\n",
    "                                         ql.Period(maturity, ql.Days),\n",
    "                                         fixingDays,\n",
    "                                         calendar,\n",
    "                                         convention,\n",
    "                                         endOfMonth,\n",
    "                                         dayCounter)\n",
    "                    for price, maturity in zip(tbill['price'], tbill['days'])]\n",
    "    # price는 rate_table에서 0.001, 0.1 이런것들. 얘네는 지금 %단위이므로 100으로 나눠줌\n",
    "    # ql.Period()는 만기. maturity는 rate_table에서 days에 해당.\n",
    "\n",
    "    # Construct T-Bond Helpers\n",
    "    bond_helpers = []\n",
    "    for price, coupon, maturity in zip(tbond['price'], tbond['coupon'], tbond['days']):\n",
    "        maturity_date = eval_date + ql.Period(maturity, ql.Days)\n",
    "        schedule = ql.Schedule(\n",
    "            eval_date,  # 평가일자, 거래발생일자\n",
    "            maturity_date,\n",
    "            frequency,  # 일년에 2번\n",
    "            calendar,\n",
    "            convention,  # 이자발생일수에 대한 컨벤션\n",
    "            convention,  # 원금상환일에 대한 컨벤션\n",
    "            dateGeneration,  # 이자일수 발생 방식\n",
    "            endOfMonth)\n",
    "        bond_helper = ql.FixedRateBondHelper(\n",
    "            ql.QuoteHandle(\n",
    "                ql.SimpleQuote(price)),\n",
    "            fixingDays,\n",
    "            faceAmount,\n",
    "            schedule,\n",
    "            [coupon/100.0],  # 여기의 coupon값도 %값이므로 100으로 나눠줌\n",
    "            dayCounter,\n",
    "            convention\n",
    "        )\n",
    "        bond_helpers.append(bond_helper)\n",
    "\n",
    "    # Bind Helpers\n",
    "    rate_helper = bill_helpers + bond_helpers\n",
    "\n",
    "    # Build Curve\n",
    "      # TermStructure 클래스\n",
    "    curve = ql.PiecewiseLinearZero(eval_date,\n",
    "                                  rate_helper,\n",
    "                                  dayCounter)\n",
    "    \n",
    "    return curve"
   ]
  },
  {
   "cell_type": "code",
   "execution_count": 24,
   "id": "34177818",
   "metadata": {
    "ExecuteTime": {
     "end_time": "2021-07-30T02:50:30.936490Z",
     "start_time": "2021-07-30T02:50:30.851979Z"
    }
   },
   "outputs": [],
   "source": [
    "curve = TREASURY_CURVE(eval_date, rate_tabel)"
   ]
  },
  {
   "cell_type": "code",
   "execution_count": 28,
   "id": "f998690f",
   "metadata": {
    "ExecuteTime": {
     "end_time": "2021-07-30T03:08:18.620899Z",
     "start_time": "2021-07-30T03:08:18.601060Z"
    }
   },
   "outputs": [
    {
     "data": {
      "text/plain": [
       "['__class__',\n",
       " '__delattr__',\n",
       " '__dict__',\n",
       " '__dir__',\n",
       " '__doc__',\n",
       " '__eq__',\n",
       " '__format__',\n",
       " '__ge__',\n",
       " '__getattribute__',\n",
       " '__gt__',\n",
       " '__hash__',\n",
       " '__init__',\n",
       " '__init_subclass__',\n",
       " '__le__',\n",
       " '__lt__',\n",
       " '__module__',\n",
       " '__ne__',\n",
       " '__new__',\n",
       " '__reduce__',\n",
       " '__reduce_ex__',\n",
       " '__repr__',\n",
       " '__setattr__',\n",
       " '__sizeof__',\n",
       " '__str__',\n",
       " '__subclasshook__',\n",
       " '__swig_destroy__',\n",
       " '__weakref__',\n",
       " 'allowsExtrapolation',\n",
       " 'calendar',\n",
       " 'dates',\n",
       " 'dayCounter',\n",
       " 'disableExtrapolation',\n",
       " 'discount',\n",
       " 'enableExtrapolation',\n",
       " 'forwardRate',\n",
       " 'maxDate',\n",
       " 'maxTime',\n",
       " 'nodes',\n",
       " 'referenceDate',\n",
       " 'this',\n",
       " 'thisown',\n",
       " 'timeFromReference',\n",
       " 'times',\n",
       " 'zeroRate']"
      ]
     },
     "execution_count": 28,
     "metadata": {},
     "output_type": "execute_result"
    }
   ],
   "source": [
    "dir(curve)"
   ]
  },
  {
   "cell_type": "code",
   "execution_count": 27,
   "id": "26511aa4",
   "metadata": {
    "ExecuteTime": {
     "end_time": "2021-07-30T03:07:57.024895Z",
     "start_time": "2021-07-30T03:07:57.007119Z"
    }
   },
   "outputs": [],
   "source": [
    "def DISCOUNT_FACTOR(date, curve):\n",
    "    date = ql.Date(date.day, date.month, date.year)\n",
    "    discount_factor = curve.discount(date)\n",
    "    return discount_factor"
   ]
  },
  {
   "cell_type": "code",
   "execution_count": 29,
   "id": "8ebb36d4",
   "metadata": {
    "ExecuteTime": {
     "end_time": "2021-07-30T03:10:12.198422Z",
     "start_time": "2021-07-30T03:10:12.185306Z"
    }
   },
   "outputs": [],
   "source": [
    "def ZERO_RATE(date, curve):\n",
    "    date = ql.Date(date.day, date.month, date.year)\n",
    "    dayCount = ql.ActualActual()\n",
    "    compounding = ql.Compounded  #채권의 가장 일반적인 Convention\n",
    "    frequency = ql.Continuous    #Compound 방식 / 연속복리로 zerorate 계산\n",
    "    zero_rate = curve.zeroRate(date, dayCount, compounding, frequency).rate()\n",
    "    return zero_rate"
   ]
  },
  {
   "cell_type": "code",
   "execution_count": 30,
   "id": "dd114a80",
   "metadata": {
    "ExecuteTime": {
     "end_time": "2021-07-30T03:10:45.905186Z",
     "start_time": "2021-07-30T03:10:45.888382Z"
    }
   },
   "outputs": [
    {
     "data": {
      "text/html": [
       "<div>\n",
       "<style scoped>\n",
       "    .dataframe tbody tr th:only-of-type {\n",
       "        vertical-align: middle;\n",
       "    }\n",
       "\n",
       "    .dataframe tbody tr th {\n",
       "        vertical-align: top;\n",
       "    }\n",
       "\n",
       "    .dataframe thead th {\n",
       "        text-align: right;\n",
       "    }\n",
       "</style>\n",
       "<table border=\"1\" class=\"dataframe\">\n",
       "  <thead>\n",
       "    <tr style=\"text-align: right;\">\n",
       "      <th></th>\n",
       "      <th>days</th>\n",
       "      <th>price</th>\n",
       "      <th>coupon</th>\n",
       "    </tr>\n",
       "    <tr>\n",
       "      <th>maturity</th>\n",
       "      <th></th>\n",
       "      <th></th>\n",
       "      <th></th>\n",
       "    </tr>\n",
       "  </thead>\n",
       "  <tbody>\n",
       "    <tr>\n",
       "      <th>2021-08-24</th>\n",
       "      <td>26</td>\n",
       "      <td>0.045</td>\n",
       "      <td>0.0</td>\n",
       "    </tr>\n",
       "    <tr>\n",
       "      <th>2021-10-28</th>\n",
       "      <td>91</td>\n",
       "      <td>0.051</td>\n",
       "      <td>0.0</td>\n",
       "    </tr>\n",
       "    <tr>\n",
       "      <th>2022-01-27</th>\n",
       "      <td>182</td>\n",
       "      <td>0.052</td>\n",
       "      <td>0.0</td>\n",
       "    </tr>\n",
       "    <tr>\n",
       "      <th>2022-07-14</th>\n",
       "      <td>350</td>\n",
       "      <td>0.068</td>\n",
       "      <td>0.0</td>\n",
       "    </tr>\n",
       "    <tr>\n",
       "      <th>2023-07-31</th>\n",
       "      <td>732</td>\n",
       "      <td>99.25</td>\n",
       "      <td>0.125</td>\n",
       "    </tr>\n",
       "    <tr>\n",
       "      <th>2024-07-15</th>\n",
       "      <td>1082</td>\n",
       "      <td>100.0</td>\n",
       "      <td>0.375</td>\n",
       "    </tr>\n",
       "    <tr>\n",
       "      <th>2026-07-31</th>\n",
       "      <td>1828</td>\n",
       "      <td>99.15625</td>\n",
       "      <td>0.625</td>\n",
       "    </tr>\n",
       "    <tr>\n",
       "      <th>2028-06-30</th>\n",
       "      <td>2528</td>\n",
       "      <td>99.25</td>\n",
       "      <td>1.25</td>\n",
       "    </tr>\n",
       "    <tr>\n",
       "      <th>2031-05-15</th>\n",
       "      <td>3577</td>\n",
       "      <td>103.125</td>\n",
       "      <td>1.625</td>\n",
       "    </tr>\n",
       "    <tr>\n",
       "      <th>2051-05-15</th>\n",
       "      <td>10882</td>\n",
       "      <td>110.21875</td>\n",
       "      <td>2.375</td>\n",
       "    </tr>\n",
       "  </tbody>\n",
       "</table>\n",
       "</div>"
      ],
      "text/plain": [
       "             days      price coupon\n",
       "maturity                           \n",
       "2021-08-24     26      0.045    0.0\n",
       "2021-10-28     91      0.051    0.0\n",
       "2022-01-27    182      0.052    0.0\n",
       "2022-07-14    350      0.068    0.0\n",
       "2023-07-31    732      99.25  0.125\n",
       "2024-07-15   1082      100.0  0.375\n",
       "2026-07-31   1828   99.15625  0.625\n",
       "2028-06-30   2528      99.25   1.25\n",
       "2031-05-15   3577    103.125  1.625\n",
       "2051-05-15  10882  110.21875  2.375"
      ]
     },
     "execution_count": 30,
     "metadata": {},
     "output_type": "execute_result"
    }
   ],
   "source": [
    "rate_tabel"
   ]
  },
  {
   "cell_type": "code",
   "execution_count": 35,
   "id": "c2bc3c51",
   "metadata": {
    "ExecuteTime": {
     "end_time": "2021-07-30T03:13:48.147037Z",
     "start_time": "2021-07-30T03:13:48.120577Z"
    }
   },
   "outputs": [],
   "source": [
    "rate_tabel['discount factor'] = np.nan\n",
    "rate_tabel['zero rate'] = np.nan\n",
    "\n",
    "for date in rate_tabel.index:\n",
    "    rate_tabel.loc[date, 'discount factor'] = DISCOUNT_FACTOR(date, curve)\n",
    "    rate_tabel.loc[date, 'zero rate'] = ZERO_RATE(date, curve)"
   ]
  },
  {
   "cell_type": "code",
   "execution_count": 39,
   "id": "899adcb9",
   "metadata": {
    "ExecuteTime": {
     "end_time": "2021-07-30T03:14:07.430577Z",
     "start_time": "2021-07-30T03:14:07.424277Z"
    }
   },
   "outputs": [],
   "source": [
    "rate_tabel.drop(['dicount factor'], axis=1, inplace=True)"
   ]
  },
  {
   "cell_type": "code",
   "execution_count": 41,
   "id": "8a84c6e7",
   "metadata": {
    "ExecuteTime": {
     "end_time": "2021-07-30T03:14:15.273652Z",
     "start_time": "2021-07-30T03:14:15.241909Z"
    }
   },
   "outputs": [
    {
     "data": {
      "text/html": [
       "<div>\n",
       "<style scoped>\n",
       "    .dataframe tbody tr th:only-of-type {\n",
       "        vertical-align: middle;\n",
       "    }\n",
       "\n",
       "    .dataframe tbody tr th {\n",
       "        vertical-align: top;\n",
       "    }\n",
       "\n",
       "    .dataframe thead th {\n",
       "        text-align: right;\n",
       "    }\n",
       "</style>\n",
       "<table border=\"1\" class=\"dataframe\">\n",
       "  <thead>\n",
       "    <tr style=\"text-align: right;\">\n",
       "      <th></th>\n",
       "      <th>days</th>\n",
       "      <th>price</th>\n",
       "      <th>coupon</th>\n",
       "      <th>discount factor</th>\n",
       "      <th>zero rate</th>\n",
       "    </tr>\n",
       "    <tr>\n",
       "      <th>maturity</th>\n",
       "      <th></th>\n",
       "      <th></th>\n",
       "      <th></th>\n",
       "      <th></th>\n",
       "      <th></th>\n",
       "    </tr>\n",
       "  </thead>\n",
       "  <tbody>\n",
       "    <tr>\n",
       "      <th>2021-08-24</th>\n",
       "      <td>26</td>\n",
       "      <td>0.045</td>\n",
       "      <td>0.0</td>\n",
       "      <td>0.999968</td>\n",
       "      <td>0.000450</td>\n",
       "    </tr>\n",
       "    <tr>\n",
       "      <th>2021-10-28</th>\n",
       "      <td>91</td>\n",
       "      <td>0.051</td>\n",
       "      <td>0.0</td>\n",
       "      <td>0.999880</td>\n",
       "      <td>0.000482</td>\n",
       "    </tr>\n",
       "    <tr>\n",
       "      <th>2022-01-27</th>\n",
       "      <td>182</td>\n",
       "      <td>0.052</td>\n",
       "      <td>0.0</td>\n",
       "      <td>0.999744</td>\n",
       "      <td>0.000513</td>\n",
       "    </tr>\n",
       "    <tr>\n",
       "      <th>2022-07-14</th>\n",
       "      <td>350</td>\n",
       "      <td>0.068</td>\n",
       "      <td>0.0</td>\n",
       "      <td>0.999450</td>\n",
       "      <td>0.000574</td>\n",
       "    </tr>\n",
       "    <tr>\n",
       "      <th>2023-07-31</th>\n",
       "      <td>732</td>\n",
       "      <td>99.25</td>\n",
       "      <td>0.125</td>\n",
       "      <td>0.990003</td>\n",
       "      <td>0.005016</td>\n",
       "    </tr>\n",
       "    <tr>\n",
       "      <th>2024-07-15</th>\n",
       "      <td>1082</td>\n",
       "      <td>100.0</td>\n",
       "      <td>0.375</td>\n",
       "      <td>0.988961</td>\n",
       "      <td>0.003750</td>\n",
       "    </tr>\n",
       "    <tr>\n",
       "      <th>2026-07-31</th>\n",
       "      <td>1828</td>\n",
       "      <td>99.15625</td>\n",
       "      <td>0.625</td>\n",
       "      <td>0.960750</td>\n",
       "      <td>0.008016</td>\n",
       "    </tr>\n",
       "    <tr>\n",
       "      <th>2028-06-30</th>\n",
       "      <td>2528</td>\n",
       "      <td>99.25</td>\n",
       "      <td>1.25</td>\n",
       "      <td>0.908610</td>\n",
       "      <td>0.013894</td>\n",
       "    </tr>\n",
       "    <tr>\n",
       "      <th>2031-05-15</th>\n",
       "      <td>3577</td>\n",
       "      <td>103.125</td>\n",
       "      <td>1.625</td>\n",
       "      <td>0.880562</td>\n",
       "      <td>0.013029</td>\n",
       "    </tr>\n",
       "    <tr>\n",
       "      <th>2051-05-15</th>\n",
       "      <td>10882</td>\n",
       "      <td>110.21875</td>\n",
       "      <td>2.375</td>\n",
       "      <td>0.543737</td>\n",
       "      <td>0.020555</td>\n",
       "    </tr>\n",
       "  </tbody>\n",
       "</table>\n",
       "</div>"
      ],
      "text/plain": [
       "             days      price coupon  discount factor  zero rate\n",
       "maturity                                                       \n",
       "2021-08-24     26      0.045    0.0         0.999968   0.000450\n",
       "2021-10-28     91      0.051    0.0         0.999880   0.000482\n",
       "2022-01-27    182      0.052    0.0         0.999744   0.000513\n",
       "2022-07-14    350      0.068    0.0         0.999450   0.000574\n",
       "2023-07-31    732      99.25  0.125         0.990003   0.005016\n",
       "2024-07-15   1082      100.0  0.375         0.988961   0.003750\n",
       "2026-07-31   1828   99.15625  0.625         0.960750   0.008016\n",
       "2028-06-30   2528      99.25   1.25         0.908610   0.013894\n",
       "2031-05-15   3577    103.125  1.625         0.880562   0.013029\n",
       "2051-05-15  10882  110.21875  2.375         0.543737   0.020555"
      ]
     },
     "execution_count": 41,
     "metadata": {},
     "output_type": "execute_result"
    }
   ],
   "source": [
    "rate_tabel"
   ]
  },
  {
   "cell_type": "markdown",
   "id": "269a4fd4",
   "metadata": {},
   "source": [
    "- 할인계수가 점점 작아지는 건 당연. 멀리 있는 놈일수록 기나긴 시간동안 할인을 해줘야 하므로...\n",
    "- zero rate는 discount factor와 역수 관계"
   ]
  },
  {
   "cell_type": "markdown",
   "id": "a77d4216",
   "metadata": {},
   "source": [
    "**시각화**"
   ]
  },
  {
   "cell_type": "code",
   "execution_count": 43,
   "id": "a6e880b7",
   "metadata": {
    "ExecuteTime": {
     "end_time": "2021-07-30T03:20:34.879376Z",
     "start_time": "2021-07-30T03:20:33.274378Z"
    }
   },
   "outputs": [
    {
     "data": {
      "image/png": "[encoded data removed]",
      "text/plain": [
       "<Figure size 720x576 with 1 Axes>"
      ]
     },
     "metadata": {
      "image/png": {
       "height": 499,
       "width": 631
      }
     },
     "output_type": "display_data"
    },
    {
     "data": {
      "image/png": "[encoded data removed]",
      "text/plain": [
       "<Figure size 720x576 with 1 Axes>"
      ]
     },
     "metadata": {
      "image/png": {
       "height": 499,
       "width": 612
      }
     },
     "output_type": "display_data"
    }
   ],
   "source": [
    "\n",
    "# 스팟금리 커브\n",
    "plt.figure(figsize=(10,8))\n",
    "plt.plot(rate_tabel['zero rate'], 'b.-')\n",
    "plt.title('Zero Curve', loc='center')\n",
    "plt.xlabel('Maturity')\n",
    "plt.ylabel('Zero Rate')\n",
    "\n",
    "plt.figure(figsize=(10,8))\n",
    "plt.plot(rate_tabel['discount factor'], 'r.-')\n",
    "plt.title('Discount Curve', loc='center')\n",
    "plt.xlabel('Maturity')\n",
    "plt.ylabel('Discount Factor')\n",
    "\n",
    "plt.show()"
   ]
  },
  {
   "cell_type": "code",
   "execution_count": 44,
   "id": "d1eadeed",
   "metadata": {
    "ExecuteTime": {
     "end_time": "2021-07-30T03:31:29.718946Z",
     "start_time": "2021-07-30T03:31:29.698636Z"
    }
   },
   "outputs": [
    {
     "name": "stdout",
     "output_type": "stream",
     "text": [
      "Writing bond_curve.py\n"
     ]
    }
   ],
   "source": [
    "%%writefile bond_curve.py\n",
    "import datetime\n",
    "import QuantLib as ql\n",
    "from selenium import webdriver\n",
    "\n",
    "options = webdriver.ChromeOptions()\n",
    "options.add_argument('headless')  #화면안나d오게\n",
    "\n",
    "def GET_DATE():\n",
    "    date = ql.Date().todaysDate() \n",
    "    one_day = ql.Period(1, ql.Days)  \n",
    "    last_bday = date - one_day #오늘에서 하루 전 날짜.\n",
    "    \n",
    "    us = ql.UnitedStates()\n",
    "    \n",
    "    while us.isBusinessDay(last_bday) == False:\n",
    "        last_bday -= one_day\n",
    "    \n",
    "    date = datetime.date(last_bday.year(),\n",
    "                         last_bday.month(),\n",
    "                         last_bday.dayOfMonth())\n",
    "    \n",
    "    return date\n",
    "\n",
    "def GET_QUOTE(eval_date):\n",
    "    driver = webdriver.Chrome('C:/jupyter_project/chromedriver.exe', options=options)\n",
    "    tenors = ['01M','03M','06M','01Y','02Y','03Y','05Y','07Y','10Y','30Y']\n",
    "    # 물론 시장에 있는 채권 다 가져와서 금리커브 만들 수도 잇겠지만\n",
    "    # 보통은 위처럼 주로 거래되는 놈들로만 만듦\n",
    "    \n",
    "    maturities = []\n",
    "    days = []\n",
    "    prices = []\n",
    "    coupons = []\n",
    "    \n",
    "    links = \"https://www.wsj.com/market-data/quotes/bond/BX/TMUBMUSD{}?mod=md_bond_overview_quote\"\n",
    "    \n",
    "    for i, tenor in enumerate(tenors):\n",
    "        driver.get(links.format(tenor))\n",
    "        html = driver.page_source  # 소스코드 저장\n",
    "        soup = BeautifulSoup(html, 'html.parser')\n",
    "        \n",
    "        #price\n",
    "        if i <= 3:  # 1년까지가지고옴 / 단기쪽이면 그냥 금리가지고 오고\n",
    "            data_src = soup.find('span', id='quote_val')\n",
    "            price = data_src.text # 0.094% (텍스트)\n",
    "            price = float(price[:-1])\n",
    "        else:   #2년이상은 100단위로 quote함\n",
    "            data_src = soup.find('span', id='price_quote_val') #2/32 이런거\n",
    "            price = data_src.text # 100 0/32 (텍스트)\n",
    "            price1 = float(price.split()[0])\n",
    "            price2, price3 = price.split()[1].split('/')[0], price.split()[1].split('/')[1]\n",
    "            price2, price3 = float(price2), float(price3)\n",
    "            price = price1 + (price2/price3)\n",
    "    \n",
    "        # Coupon\n",
    "        data_src2 = soup.find_all(\"span\", {'class':\"data_data\"})\n",
    "        coupon = data_src2[2].text\n",
    "        if coupon != '': #쿠폰이 있으면\n",
    "            coupon = float(coupon[:-1])\n",
    "        else:\n",
    "            coupon = 0.0\n",
    "            \n",
    "        # Maturity Date\n",
    "        maturity = data_src2[3].text\n",
    "        #텍스트를 datetime 객체로\n",
    "        maturity = datetime.datetime.strptime(maturity, '%m/%d/%y').date()\n",
    "        \n",
    "        \n",
    "        days.append((maturity - eval_date).days)  #만기와 평가일의 차이\n",
    "        prices.append(price)\n",
    "        coupons.append(coupon)\n",
    "        maturities.append(maturity)\n",
    "        \n",
    "    \n",
    "    #데이터프레임 만들기\n",
    "    df = pd.DataFrame([maturities, days, prices, coupons]).T\n",
    "    headers = ['maturity','days','price','coupon']\n",
    "    df.columns = headers\n",
    "    df.set_index('maturity', inplace=True)  #만기일이 index\n",
    "    return df\n",
    "        \n",
    "#얘를 활용해서, spot curve와 할인 curve를 만들어야함\n",
    "\n",
    "def TREASURY_CURVE(eval_date, rate_table):\n",
    "\n",
    "    # Divide Quotes 테이블을 무이표채 /이표채로 나눈다.\n",
    "    #미국단기 : 무이표채\n",
    "    tbill = rate_table[0:4]\n",
    "    tbond = rate_table[4:]\n",
    "\n",
    "    # Set Evaluation Date\n",
    "    eval_date = ql.Date(eval_date.day, eval_date.month, eval_date.year)\n",
    "    # 평가일을 특정일로 설정하곘다고 Global하게 선연\n",
    "    ql.Settings.instance().evaluationDate = eval_date\n",
    "\n",
    "    # Set Market Convention\n",
    "    # 미국 국채가 거래되는 시장관행 설정 (한국은 좀 다름)\n",
    "    # 커브 헬퍼에 필요한 컨벤션 완성.\n",
    "    calendar = ql.UnitedStates()\n",
    "    convention = ql.ModifiedFollowing\n",
    "    dayCounter = ql.ActualActual()  # 미국은 Act/Act방식 씀\n",
    "    endOfMonth = False  # 거래일이 월말일때, 나중의 이자지급일을 웜말로 할거니?\n",
    "    fixingDays = 1  # 다음 이자지급 구간에 적용되는 금리가 오늘 설정할 것인가...\n",
    "    # 오늘부터 6개월동안의 이자지급구간에 해닫되는 이자 금리를 설정할 떄\n",
    "    # 오늘에 해당하는 이자금리를 쓸 것인가. 아니면 하루 전에 미리 fixing을 할 것인가.\n",
    "    # 아니면 2일전에...\n",
    "    faceAmount = 100  # 액면가가 미국국채는 100달러 기준\n",
    "    frequency = ql.Period(ql.Semiannual)\n",
    "    dateGeneration = ql.DateGeneration.Backward\n",
    "\n",
    "    # COnstruct T-Bill helpers\n",
    "    bill_helpers = [ql.DepositRateHelper(ql.QuoteHandle(ql.SimpleQuote(price/100.0)),\n",
    "                                         ql.Period(maturity, ql.Days),\n",
    "                                         fixingDays,\n",
    "                                         calendar,\n",
    "                                         convention,\n",
    "                                         endOfMonth,\n",
    "                                         dayCounter)\n",
    "                    for price, maturity in zip(tbill['price'], tbill['days'])]\n",
    "    # price는 rate_table에서 0.001, 0.1 이런것들. 얘네는 지금 %단위이므로 100으로 나눠줌\n",
    "    # ql.Period()는 만기. maturity는 rate_table에서 days에 해당.\n",
    "\n",
    "    # Construct T-Bond Helpers\n",
    "    bond_helpers = []\n",
    "    for price, coupon, maturity in zip(tbond['price'], tbond['coupon'], tbond['days']):\n",
    "        maturity_date = eval_date + ql.Period(maturity, ql.Days)\n",
    "        schedule = ql.Schedule(\n",
    "            eval_date,  # 평가일자, 거래발생일자\n",
    "            maturity_date,\n",
    "            frequency,  # 일년에 2번\n",
    "            calendar,\n",
    "            convention,  # 이자발생일수에 대한 컨벤션\n",
    "            convention,  # 원금상환일에 대한 컨벤션\n",
    "            dateGeneration,  # 이자일수 발생 방식\n",
    "            endOfMonth)\n",
    "        bond_helper = ql.FixedRateBondHelper(\n",
    "            ql.QuoteHandle(\n",
    "                ql.SimpleQuote(price)),\n",
    "            fixingDays,\n",
    "            faceAmount,\n",
    "            schedule,\n",
    "            [coupon/100.0],  # 여기의 coupon값도 %값이므로 100으로 나눠줌\n",
    "            dayCounter,\n",
    "            convention\n",
    "        )\n",
    "        bond_helpers.append(bond_helper)\n",
    "\n",
    "    # Bind Helpers\n",
    "    rate_helper = bill_helpers + bond_helpers\n",
    "\n",
    "    # Build Curve\n",
    "      # TermStructure 클래스\n",
    "    curve = ql.PiecewiseLinearZero(eval_date,\n",
    "                                  rate_helper,\n",
    "                                  dayCounter)\n",
    "    \n",
    "    return curve   \n",
    "\n",
    "def DISCOUNT_FACTOR(date, curve):\n",
    "    date = ql.Date(date.day, date.month, date.year)\n",
    "    discount_factor = curve.discount(date)\n",
    "    return discount_factor\n",
    "\n",
    "def ZERO_RATE(date, curve):\n",
    "    date = ql.Date(date.day, date.month, date.year)\n",
    "    dayCount = ql.ActualActual()\n",
    "    compounding = ql.Compounded  #채권의 가장 일반적인 Convention\n",
    "    frequency = ql.Continuous    #Compound 방식 / 연속복리로 zerorate 계산\n",
    "    zero_rate = curve.zeroRate(date, dayCount, compounding, frequency).rate()\n",
    "    return zero_rate"
   ]
  },
  {
   "cell_type": "code",
   "execution_count": null,
   "id": "ed1d99bb",
   "metadata": {},
   "outputs": [],
   "source": []
  }
 ],
 "metadata": {
  "hide_input": false,
  "kernelspec": {
   "display_name": "Python 3",
   "language": "python",
   "name": "python3"
  },
  "language_info": {
   "codemirror_mode": {
    "name": "ipython",
    "version": 3
   },
   "file_extension": ".py",
   "mimetype": "text/x-python",
   "name": "python",
   "nbconvert_exporter": "python",
   "pygments_lexer": "ipython3",
   "version": "3.8.5"
  },
  "toc": {
   "base_numbering": 1,
   "nav_menu": {},
   "number_sections": true,
   "sideBar": true,
   "skip_h1_title": false,
   "title_cell": "Table of Contents",
   "title_sidebar": "Contents",
   "toc_cell": false,
   "toc_position": {},
   "toc_section_display": true,
   "toc_window_display": false
  },
  "varInspector": {
   "cols": {
    "lenName": 16,
    "lenType": 16,
    "lenVar": 40
   },
   "kernels_config": {
    "python": {
     "delete_cmd_postfix": "",
     "delete_cmd_prefix": "del ",
     "library": "var_list.py",
     "varRefreshCmd": "print(var_dic_list())"
    },
    "r": {
     "delete_cmd_postfix": ") ",
     "delete_cmd_prefix": "rm(",
     "library": "var_list.r",
     "varRefreshCmd": "cat(var_dic_list()) "
    }
   },
   "types_to_exclude": [
    "module",
    "function",
    "builtin_function_or_method",
    "instance",
    "_Feature"
   ],
   "window_display": false
  }
 },
 "nbformat": 4,
 "nbformat_minor": 5
}
