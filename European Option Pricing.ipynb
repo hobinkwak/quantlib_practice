{
 "cells": [
  {
   "cell_type": "code",
   "execution_count": 23,
   "id": "4aa07b7d",
   "metadata": {
    "ExecuteTime": {
     "end_time": "2021-08-16T15:59:52.697045Z",
     "start_time": "2021-08-16T15:59:52.660142Z"
    },
    "scrolled": false
   },
   "outputs": [
    {
     "name": "stdout",
     "output_type": "stream",
     "text": [
      "Option Premium : 14.586000963056717\n",
      "Delta : 0.5393474061232754\n",
      "theta : -0.022722469700332086\n",
      "gamma : 0.01129208403778226\n",
      "vega : 1.0736536768091984\n",
      "rho : 1.312593377840626\n",
      "\n",
      "기초자산 가격 변동 setValue해주면 알아서 값 다르게 해줌\n",
      "***New : Underlying Asset Value : 270.48 -> 275\n",
      "\n",
      "Option Premium : 17.13792979095591\n",
      "Delta : 0.5895128624633252\n",
      "theta : -0.023018071007202906\n",
      "gamma : 0.01087867744146228\n",
      "vega : 1.0692057512531787\n",
      "rho : 1.4493686801164989\n",
      "\n",
      "시장은 만기까지의 내재변동성 수준을 7.063398966105272 %으로 봄\n",
      "\n",
      "Option Premium : 8.209995514675025\n",
      "\t\t\t위에서 정한 mkt_price와 같은 수준\n",
      "\n",
      "Delta : 0.5388425504562017\n",
      "theta : -0.014160920111173697\n",
      "gamma : 0.02078537774962862\n",
      "vega : 1.0737876902800079\n",
      "rho : 1.3749701504431195\n"
     ]
    }
   ],
   "source": [
    "import QuantLib as ql\n",
    "\n",
    "valuationDate = ql.Date(24, 11, 2020)  \n",
    "ql.Settings.instance().evaluationDate =valuationDate #평가일자가 이 날이다~\n",
    "\n",
    "calendar = ql.SouthKorea()\n",
    "dayCount = ql.ActualActual()\n",
    "\n",
    "#Simple Quote Object\n",
    "underlying_qt = ql.SimpleQuote(270.48)  #기초자산 가격 #kospi200 주가 (예시)\n",
    "dividend_qt = ql.SimpleQuote(0.0) #배당없다고 가정\n",
    "interestRate_qt = ql.SimpleQuote(0.01)  #1% (실제로는 이자율스왑커브 가져와서 넣음)\n",
    "volatility_qt = ql.SimpleQuote(0.13) #13%\n",
    "\n",
    "#Quote Handles\n",
    "u_qhd = ql.QuoteHandle(underlying_qt)\n",
    "d_qhd = ql.QuoteHandle(dividend_qt)\n",
    "r_qhd = ql.QuoteHandle(interestRate_qt)\n",
    "v_qhd = ql.QuoteHandle(volatility_qt)\n",
    "\n",
    "#배당, 금리, 변동성은 만기에 따른 기간구조가 존재\n",
    "#구현의 편의성을 위하여 전 만기에서 모두 동일한 값이라고 가정함\n",
    "# Term Structure \n",
    "r_ts = ql.FlatForward(valuationDate, r_qhd, dayCount) # 이값이 전 만기에 대해 동일한 값을 가진다.\n",
    "d_ts = ql.FlatForward(valuationDate, d_qhd, dayCount)\n",
    "v_ts = ql.BlackConstantVol(valuationDate, calendar, v_qhd, dayCount)\n",
    "\n",
    "# TermStructure Handle\n",
    "r_tshd = ql.YieldTermStructureHandle(r_ts)\n",
    "d_tshd = ql.YieldTermStructureHandle(d_ts)\n",
    "v_tshd = ql.BlackVolTermStructureHandle(v_ts)\n",
    "\n",
    "# Process\n",
    "#유로피안 옵션에 대해 주로 사용하는 Process\n",
    "process = ql.BlackScholesMertonProcess(u_qhd, d_tshd, r_tshd, v_tshd)\n",
    "\n",
    "# Engine\n",
    "engine = ql.AnalyticEuropeanEngine(process)\n",
    "\n",
    "# Option Obj\n",
    "option_type = ql.Option.Call\n",
    "strikePrice = 272 # 주가 272 넘으면 이익\n",
    "expiryDate = ql.Date(24, 11, 2021)\n",
    "exercise = ql.EuropeanExercise(expiryDate)\n",
    "payoff = ql.PlainVanillaPayoff(option_type, strikePrice)  #일반적인 payoff\n",
    "\n",
    "option = ql.VanillaOption(payoff, exercise)\n",
    "option.setPricingEngine(engine)\n",
    "\n",
    "#프라이싱된 옵션의 이론적 가치와 그릭스\n",
    "print(\"Option Premium : {}\".format(option.NPV()))\n",
    "print(\"Delta : {}\".format(option.delta()))\n",
    "print(\"theta : {}\".format(option.thetaPerDay()))\n",
    "print(\"gamma : {}\".format(option.gamma()))\n",
    "print(\"vega : {}\".format(option.vega() / 100))\n",
    "print(\"rho : {}\".format(option.rho() / 100))\n",
    "\n",
    "underlying_qt.setValue(275) #기초자산 가격 변동\n",
    "print()\n",
    "print(\"기초자산 가격 변동 setValue해주면 알아서 값 다르게 해줌\")\n",
    "print(\"***New : Underlying Asset Value : 270.48 -> 275\\n\")\n",
    "print(\"Option Premium : {}\".format(option.NPV()))\n",
    "print(\"Delta : {}\".format(option.delta()))\n",
    "print(\"theta : {}\".format(option.thetaPerDay()))\n",
    "print(\"gamma : {}\".format(option.gamma()))\n",
    "print(\"vega : {}\".format(option.vega() / 100))\n",
    "print(\"rho : {}\".format(option.rho() / 100))\n",
    "\n",
    "\n",
    "print()\n",
    "\n",
    "#내재변동성 Implied Volatility\n",
    "underlying_qt.setValue(270.48)\n",
    "mkt_price = 8.21 # 이 옵션의 시가\n",
    "#임의로 가정한 13%가 아닌 이 옵션의 시가에 가정된.. 시장참여자들이 생각하는 변동성\n",
    "implied_vol = option.impliedVolatility(mkt_price, process)\n",
    "print(\"시장은 만기까지의 내재변동성 수준을\", implied_vol*100, '%으로 봄')\n",
    "\n",
    "#내재변동성으로 재수정\n",
    "print()\n",
    "volatility_qt.setValue(implied_vol)\n",
    "print(\"Option Premium : {}\".format(option.NPV()))\n",
    "if round(option.NPV(),2) == mkt_price:\n",
    "    print(\"\\t\\t\\t위에서 정한 mkt_price와 같은 수준\\n\")\n",
    "print(\"Delta : {}\".format(option.delta()))\n",
    "print(\"theta : {}\".format(option.thetaPerDay()))\n",
    "print(\"gamma : {}\".format(option.gamma()))\n",
    "print(\"vega : {}\".format(option.vega() / 100))\n",
    "print(\"rho : {}\".format(option.rho() / 100))"
   ]
  },
  {
   "cell_type": "code",
   "execution_count": null,
   "id": "0cdb1f51",
   "metadata": {},
   "outputs": [],
   "source": []
  }
 ],
 "metadata": {
  "hide_input": false,
  "kernelspec": {
   "display_name": "python3.7",
   "language": "python",
   "name": "python3.7"
  },
  "language_info": {
   "codemirror_mode": {
    "name": "ipython",
    "version": 3
   },
   "file_extension": ".py",
   "mimetype": "text/x-python",
   "name": "python",
   "nbconvert_exporter": "python",
   "pygments_lexer": "ipython3",
   "version": "3.7.11"
  },
  "toc": {
   "base_numbering": 1,
   "nav_menu": {},
   "number_sections": true,
   "sideBar": true,
   "skip_h1_title": false,
   "title_cell": "Table of Contents",
   "title_sidebar": "Contents",
   "toc_cell": false,
   "toc_position": {},
   "toc_section_display": true,
   "toc_window_display": false
  },
  "varInspector": {
   "cols": {
    "lenName": 16,
    "lenType": 16,
    "lenVar": 40
   },
   "kernels_config": {
    "python": {
     "delete_cmd_postfix": "",
     "delete_cmd_prefix": "del ",
     "library": "var_list.py",
     "varRefreshCmd": "print(var_dic_list())"
    },
    "r": {
     "delete_cmd_postfix": ") ",
     "delete_cmd_prefix": "rm(",
     "library": "var_list.r",
     "varRefreshCmd": "cat(var_dic_list()) "
    }
   },
   "types_to_exclude": [
    "module",
    "function",
    "builtin_function_or_method",
    "instance",
    "_Feature"
   ],
   "window_display": false
  }
 },
 "nbformat": 4,
 "nbformat_minor": 5
}
