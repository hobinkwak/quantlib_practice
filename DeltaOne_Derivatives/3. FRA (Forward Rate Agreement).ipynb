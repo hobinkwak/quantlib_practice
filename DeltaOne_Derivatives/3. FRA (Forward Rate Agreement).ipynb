{
 "cells": [
  {
   "cell_type": "code",
   "execution_count": 36,
   "id": "f296fac8",
   "metadata": {
    "ExecuteTime": {
     "end_time": "2021-08-09T07:13:21.681603Z",
     "start_time": "2021-08-09T07:13:18.548432Z"
    },
    "code_folding": []
   },
   "outputs": [
    {
     "name": "stdout",
     "output_type": "stream",
     "text": [
      "The autoreload extension is already loaded. To reload it, use:\n",
      "  %reload_ext autoreload\n",
      "price = 87.545\n",
      "delta = 163.9108\n",
      "theta = 0.0467\n"
     ]
    }
   ],
   "source": [
    "import datetime\n",
    "import QuantLib as ql\n",
    "\n",
    "%load_ext autoreload\n",
    "%autoreload 2\n",
    "from SWAP_CURVE_hb import GET_QUOTE, SWAP_CURVE\n",
    "\n",
    "class FRA():\n",
    "    def __init__(self, todays_date, value_date, maturity_date, position, fra_rate, notional):\n",
    "        self.date = todays_date\n",
    "        self.curve = self.CURVE(self.date)\n",
    "        \n",
    "        self.value_date = ql.Date(value_date.day, value_date.month, value_date.year)\n",
    "        self.maturity_date = ql.Date(maturity_date.day, maturity_date.month,maturity_date.year)\n",
    "        \n",
    "        if position == 'Long':\n",
    "            self.position = ql.Position.Long\n",
    "        elif position == 'Short':\n",
    "            self.position = ql.Position.Short\n",
    "            \n",
    "        self.fra_rate = fra_rate\n",
    "        self.notional = notional\n",
    "        \n",
    "        #pricing 결과\n",
    "        #이론가가 들어감\n",
    "        self.npv = self.PRICING(self.curve)\n",
    "        self.delta = self.DELTA()\n",
    "        self.theta = self.THETA()\n",
    "        \n",
    "    def CURVE(self, date):\n",
    "        return SWAP_CURVE(date, GET_QUOTE(date))\n",
    "    \n",
    "    def PRICING(self, curve):\n",
    "        curve_handle = ql.YieldTermStructureHandle(curve)\n",
    "        # 이 시장금리를 토대로 usd 3개월 리보금리를 쓰겠다\n",
    "        usd_3m_libor = ql.USDLibor(ql.Period(3, ql.Months), curve_handle)\n",
    "        \n",
    "        #FRA pricing\n",
    "        fra = ql.ForwardRateAgreement(self.value_date,\n",
    "                                     self.maturity_date,\n",
    "                                     self.position,\n",
    "                                     self.fra_rate,\n",
    "                                     self.notional,\n",
    "                                     usd_3m_libor,\n",
    "                                     curve_handle)\n",
    "        npv = fra.NPV()\n",
    "        return npv\n",
    "    \n",
    "    def DELTA(self):\n",
    "        curve_handle = ql.YieldTermStructureHandle(self.curve)\n",
    "        \n",
    "        # 1bp\n",
    "        basis_point = 0.0001\n",
    "        \n",
    "        # FRA Price when 1bp up\n",
    "        # 1bp 만큼 움직였을 때의 새로운 커브\n",
    "        up_curve = ql.ZeroSpreadedTermStructure(curve_handle, ql.QuoteHandle(ql.SimpleQuote(basis_point)))\n",
    "        up_fra = self.PRICING(up_curve)\n",
    "        \n",
    "        # 1bp down\n",
    "        down_curve = ql.ZeroSpreadedTermStructure(curve_handle, ql.QuoteHandle(ql.SimpleQuote(-basis_point)))\n",
    "        down_fra = self.PRICING(down_curve)\n",
    "        \n",
    "        # delta\n",
    "        delta = (up_fra - down_fra) / 2\n",
    "        return delta\n",
    "    \n",
    "    def THETA(self):\n",
    "        price_t0 = self.PRICING(self.CURVE(self.date))\n",
    "        price_t1 = self.PRICING(self.CURVE(self.date + datetime.timedelta(days=1)))\n",
    "        theta = price_t1 - price_t0\n",
    "        return theta\n",
    "    \n",
    "if __name__ == '__main__':\n",
    "    todays_date = datetime.date(2020,10,7)\n",
    "    effective_date = datetime.date(2020,10,17)\n",
    "    maturity_date = datetime.date(2020,12,15)\n",
    "    position = \"Long\"\n",
    "    fra_rate = 0.0022\n",
    "    notional = 10000000\n",
    "    \n",
    "    fra = FRA(todays_date,\n",
    "             effective_date,\n",
    "             maturity_date,\n",
    "              position,\n",
    "              fra_rate,\n",
    "              notional)\n",
    "    \n",
    "    print(f\"price = {round(fra.npv, 4)}\")\n",
    "    print(f\"delta = {round(fra.delta, 4)}\")\n",
    "    print(f\"theta = {round(fra.theta, 4)}\")"
   ]
  },
  {
   "cell_type": "code",
   "execution_count": null,
   "id": "78771ea5",
   "metadata": {},
   "outputs": [],
   "source": []
  }
 ],
 "metadata": {
  "hide_input": false,
  "kernelspec": {
   "display_name": "python3.7",
   "language": "python",
   "name": "python3.7"
  },
  "language_info": {
   "codemirror_mode": {
    "name": "ipython",
    "version": 3
   },
   "file_extension": ".py",
   "mimetype": "text/x-python",
   "name": "python",
   "nbconvert_exporter": "python",
   "pygments_lexer": "ipython3",
   "version": "3.7.11"
  },
  "toc": {
   "base_numbering": 1,
   "nav_menu": {},
   "number_sections": true,
   "sideBar": true,
   "skip_h1_title": false,
   "title_cell": "Table of Contents",
   "title_sidebar": "Contents",
   "toc_cell": false,
   "toc_position": {},
   "toc_section_display": true,
   "toc_window_display": false
  },
  "varInspector": {
   "cols": {
    "lenName": 16,
    "lenType": 16,
    "lenVar": 40
   },
   "kernels_config": {
    "python": {
     "delete_cmd_postfix": "",
     "delete_cmd_prefix": "del ",
     "library": "var_list.py",
     "varRefreshCmd": "print(var_dic_list())"
    },
    "r": {
     "delete_cmd_postfix": ") ",
     "delete_cmd_prefix": "rm(",
     "library": "var_list.r",
     "varRefreshCmd": "cat(var_dic_list()) "
    }
   },
   "types_to_exclude": [
    "module",
    "function",
    "builtin_function_or_method",
    "instance",
    "_Feature"
   ],
   "window_display": false
  }
 },
 "nbformat": 4,
 "nbformat_minor": 5
}
