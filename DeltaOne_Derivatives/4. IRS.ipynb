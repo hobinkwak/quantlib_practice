{
 "cells": [
  {
   "cell_type": "code",
   "execution_count": 1,
   "id": "f1ba25a0",
   "metadata": {
    "ExecuteTime": {
     "end_time": "2021-08-10T01:20:37.214311Z",
     "start_time": "2021-08-10T01:20:36.327310Z"
    }
   },
   "outputs": [],
   "source": [
    "import datetime\n",
    "import QuantLib as ql\n",
    "import QuantExt as qe\n",
    "from SWAP_CURVE_hb import GET_QUOTE, SWAP_CURVE"
   ]
  },
  {
   "cell_type": "code",
   "execution_count": 7,
   "id": "6a506ff0",
   "metadata": {
    "ExecuteTime": {
     "end_time": "2021-08-10T02:47:56.895733Z",
     "start_time": "2021-08-10T02:47:51.556917Z"
    }
   },
   "outputs": [
    {
     "name": "stdout",
     "output_type": "stream",
     "text": [
      "price = 64.20069885073463\n",
      "delta = 1769.9293414873791\n",
      "theta = 2.0285979389373097\n"
     ]
    }
   ],
   "source": [
    "class IRS():\n",
    "    def __init__(self, todays_date, effective_date, maturity_date, irs_rate, notional, position, spread=0.0):\n",
    "        \n",
    "        self.date = todays_date\n",
    "        self.curve = self.CURVE(self.date)\n",
    "        \n",
    "        self.effective_date = ql.Date(effective_date.day, effective_date.month, effective_date.year)\n",
    "        self.maturity_date = ql.Date(maturity_date.day, maturity_date.month, maturity_date.year)\n",
    "        self.calendar = ql.UnitedStates()\n",
    "        self.convention = ql.ModifiedFollowing\n",
    "        self.day_counter = ql.Actual360()\n",
    "        \n",
    "        #USD IRS의 고정금리는 1년마다 이자지급\n",
    "        self.fixed_tenor = ql.Period(1, ql.Years)\n",
    "        #변동금리는 3개월\n",
    "        self.float_tenor = ql.Period(3, ql.Months)\n",
    "        \n",
    "        self.irs_rate = irs_rate\n",
    "        self.notional = notional\n",
    "        self.spread = spread\n",
    "        \n",
    "        if position == 'Long':\n",
    "            self.position = ql.VanillaSwap.Payer\n",
    "        elif position == 'Short':\n",
    "            self.position = ql.VanillaSwap.Receiver\n",
    "            \n",
    "        self.npv = self.PRICING(self.curve)\n",
    "        self.delta = self.DELTA()\n",
    "        self.theta = self.THETA()\n",
    "        \n",
    "    def CURVE(self, date):\n",
    "        #PiecewiseLinearZero()인 금리커브까지 만든 것\n",
    "        return SWAP_CURVE(date, GET_QUOTE(date))\n",
    "    \n",
    "    def PRICING(self, curve):\n",
    "        # Curve handle\n",
    "        curve_handle = ql.YieldTermStructureHandle(curve)\n",
    "        \n",
    "        usd_3m_libor = ql.USDLibor(ql.Period(3, ql.Months),\n",
    "                                  curve_handle)\n",
    "        usd_3m_libor.addFixing(ql.Date(9,10,2020), 0.0022538) #임시로\n",
    "        #us_3m_libor.addFixing(ql.date(9,4,2021), xxxx)\n",
    "        \n",
    "        fixedSchedule = ql.Schedule(self.effective_date,\n",
    "                                   self.maturity_date,\n",
    "                                   self.fixed_tenor,\n",
    "                                   self.calendar,\n",
    "                                   self.convention,\n",
    "                                   self.convention,\n",
    "                                   ql.DateGeneration.Backward,\n",
    "                                   False)\n",
    "        \n",
    "        floatSchedule = ql.Schedule(self.effective_date,\n",
    "                                   self.maturity_date,\n",
    "                                   self.float_tenor,\n",
    "                                   self.calendar,\n",
    "                                   self.convention,\n",
    "                                   self.convention,\n",
    "                                   ql.DateGeneration.Backward,\n",
    "                                   False)\n",
    "        \n",
    "        irs = ql.VanillaSwap(self.position,\n",
    "                            self.notional,\n",
    "                            fixedSchedule,\n",
    "                            self.irs_rate,\n",
    "                            self.day_counter,\n",
    "                            floatSchedule,\n",
    "                            usd_3m_libor,\n",
    "                            self.spread,\n",
    "                            self.day_counter)\n",
    "        \n",
    "        #Pricing Engine\n",
    "        swapEngine = ql.DiscountingSwapEngine(curve_handle)\n",
    "        irs.setPricingEngine(swapEngine)\n",
    "        npv = irs.NPV()\n",
    "        \n",
    "        return npv\n",
    "    \n",
    "    def DELTA(self):\n",
    "        curve_handle = ql.YieldTermStructureHandle(self.curve)\n",
    "        basis_point = 0.0001\n",
    "        up_curve = ql.ZeroSpreadedTermStructure(curve_handle,\n",
    "                                               ql.QuoteHandle(ql.SimpleQuote(basis_point)))\n",
    "        down_curve = ql.ZeroSpreadedTermStructure(curve_handle,\n",
    "                                               ql.QuoteHandle(ql.SimpleQuote(-basis_point)))\n",
    "        up_irs = self.PRICING(up_curve)\n",
    "        down_irs = self.PRICING(down_curve)\n",
    "        delta = (up_irs - down_irs)/2\n",
    "        return delta\n",
    "        \n",
    "    def THETA(self):\n",
    "        price_t0 = self.PRICING(self.CURVE(self.date))\n",
    "        price_t1 = self.PRICING(self.CURVE(self.date + datetime.timedelta(days=1)))\n",
    "        \n",
    "        theta = price_t1 - price_t0\n",
    "        return theta\n",
    "    \n",
    "if __name__ == '__main__':\n",
    "    todays_date = datetime.date(2020,10,9)  #거래일 / 첫번째 변동금리 이날 정해줘야함 / 그래서 오류나는거\n",
    "    \n",
    "    try: \n",
    "        #효력발생일 = (거래일+2일) = (변동금리결정일 + 2일)\n",
    "        # 거래일에 고정금리 fix하고 첫번째 변동금리도 결정함\n",
    "        #변동금리 Fixing날짜를 효력발생일 or 정산일 2일전에 그때그때 지정해줘야함\n",
    "        #에러가 나는 이유는 Lt0을 모르기 때문. 변동금리 얼마다~라고 지정안해줌 ㅠ\n",
    "        #addFixing해주면 오류 안남\n",
    "        effective_date = datetime.date(2020,10,13)   #거래일 + 2영업일\n",
    "        maturity_date = datetime.date(2022,10,13)\n",
    "    except:\n",
    "        #효력발생일 = (거래일+2일) = (금리결정일 + 2일)\n",
    "        #여기는 아예 미래이므로 fixing을 해줄 필요가 없음\n",
    "        #그냥 시장금리커브로 추정함. 17일날 금리는 이럴것이다~\n",
    "        effective_date = datetime.date(2020,10,19) # 19일로 가면, 17일이 거래일이 됨.\n",
    "        maturity_date = datetime.date(2022,10,18)  # 9일날 거래를 하고 효력발생일이 19일이면 17일이 되면 17일 변동금리 fixing해줘야함\n",
    "    position = 'Long' #금리가 1bp오르면 좋음. \n",
    "    irs_rate = 0.00218 #고정금리\n",
    "    notional = 10000000 \n",
    "    \n",
    "    irs = IRS(todays_date, effective_date, maturity_date, irs_rate,\n",
    "                  notional, position)\n",
    "    print(f'price = {irs.npv}')\n",
    "    print(f'delta = {irs.delta}')\n",
    "    print(f'theta = {irs.theta}')"
   ]
  },
  {
   "cell_type": "code",
   "execution_count": null,
   "id": "b94ba712",
   "metadata": {},
   "outputs": [],
   "source": []
  }
 ],
 "metadata": {
  "hide_input": false,
  "kernelspec": {
   "display_name": "python3.7",
   "language": "python",
   "name": "python3.7"
  },
  "language_info": {
   "codemirror_mode": {
    "name": "ipython",
    "version": 3
   },
   "file_extension": ".py",
   "mimetype": "text/x-python",
   "name": "python",
   "nbconvert_exporter": "python",
   "pygments_lexer": "ipython3",
   "version": "3.7.11"
  },
  "toc": {
   "base_numbering": 1,
   "nav_menu": {},
   "number_sections": true,
   "sideBar": true,
   "skip_h1_title": false,
   "title_cell": "Table of Contents",
   "title_sidebar": "Contents",
   "toc_cell": false,
   "toc_position": {},
   "toc_section_display": true,
   "toc_window_display": false
  },
  "varInspector": {
   "cols": {
    "lenName": 16,
    "lenType": 16,
    "lenVar": 40
   },
   "kernels_config": {
    "python": {
     "delete_cmd_postfix": "",
     "delete_cmd_prefix": "del ",
     "library": "var_list.py",
     "varRefreshCmd": "print(var_dic_list())"
    },
    "r": {
     "delete_cmd_postfix": ") ",
     "delete_cmd_prefix": "rm(",
     "library": "var_list.r",
     "varRefreshCmd": "cat(var_dic_list()) "
    }
   },
   "types_to_exclude": [
    "module",
    "function",
    "builtin_function_or_method",
    "instance",
    "_Feature"
   ],
   "window_display": false
  }
 },
 "nbformat": 4,
 "nbformat_minor": 5
}
