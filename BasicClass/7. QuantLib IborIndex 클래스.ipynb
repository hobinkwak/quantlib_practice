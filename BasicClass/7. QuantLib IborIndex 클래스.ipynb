{
 "cells": [
  {
   "cell_type": "markdown",
   "id": "f3f1f150",
   "metadata": {},
   "source": [
    "**IborIndex : 변동금리의 기준이 되는 준거금리 정의를 위한 클래스**\n",
    "\n",
    "2023년쯤 되면 LIBOR 없어짐...LIBOR를 대체할 OvernightIndex (매일매일 산정되는 지수)\n",
    "\n",
    "**스왑거래**를 할 때 준거 금리를 어떻게 설정할지가 중요함.\n",
    "\n",
    "```python\n",
    "ql.IborIndex(String name, # 이름\n",
    "             Period tenor,   #지급주기. 한국은 3개월 단위\n",
    "             Integer settlementDays,  #이자지급일과 이자결정일 간의 차이. 거래계약에 맞춰서 써주면 됨\n",
    "             Currency currency,  #통화. \n",
    "             Calendar fixingCalendar, #계약이 되는 달력. 미국. 중국 등등\n",
    "             BusinessDayConvention convention, #ModifiedFollowing 주로\n",
    "             Bool endOfMonth,   # 월말기준이면 True\n",
    "             DayCounter dayCounter,  \n",
    "             (Handle) forecastYieldTermStructure)   #()는 생략해도 됨.\n",
    "\n",
    "#Functions\n",
    "# 스왑 계약 체결할 때 내일이 이자지급일이고 매일 변동금리가 나온다면...\n",
    "# addFixing으로 호가되는 변동금리 추가해줘야함\n",
    "\n",
    "ql.IborIndex().addFixing(Date FixingDate,  \n",
    "                         Real FixingDate)\n",
    "ql.IborIndex().clearFixings()  # 기 add되어 있는 data를 날려버림\n",
    "\n",
    "#Currency()\n",
    "ql.USDCurrency()\n",
    "ql.EURCurrency()\n",
    "ql.KRWCurrency()\n",
    "ql.GBPCurrency()\n",
    "ql.JPYCurrency()\n",
    "ql.CNYCurrency()\n",
    "             \n",
    "\n",
    "\n",
    "```"
   ]
  },
  {
   "cell_type": "code",
   "execution_count": 2,
   "id": "cee419bf",
   "metadata": {
    "ExecuteTime": {
     "end_time": "2021-07-28T05:08:10.978776Z",
     "start_time": "2021-07-28T05:08:10.924498Z"
    }
   },
   "outputs": [],
   "source": [
    "import QuantLib as ql"
   ]
  },
  {
   "cell_type": "code",
   "execution_count": 7,
   "id": "226adc1d",
   "metadata": {
    "ExecuteTime": {
     "end_time": "2021-07-28T05:32:22.655839Z",
     "start_time": "2021-07-28T05:32:22.631414Z"
    }
   },
   "outputs": [],
   "source": [
    "name = 'USD_3m_LIBOR'\n",
    "tenor = ql.Period(3, ql.Months)\n",
    "settlementDays = 2  #보통 2일차이가 남.\n",
    "currency = ql.USDCurrency()\n",
    "us = ql.UnitedStates()\n",
    "convention = ql.ModifiedFollowing\n",
    "endOfMonth = False\n",
    "dayCounter = ql.ActualActual()\n",
    "\n",
    "usd_3m_libor = ql.IborIndex(name,\n",
    "                            tenor,\n",
    "                            settlementDays,\n",
    "                           currency,\n",
    "                            us,\n",
    "                            convention,\n",
    "                           endOfMonth,\n",
    "                            dayCounter)\n",
    "\n",
    "#오늘자 US 3개월 Libor가 0.015다... 라고 한다면.\n",
    "# 이렇게 넣어줘야함\n",
    "usd_3m_libor.addFixing(ql.Date(28,7,2020), 0.015)"
   ]
  },
  {
   "cell_type": "code",
   "execution_count": 8,
   "id": "479804ec",
   "metadata": {
    "ExecuteTime": {
     "end_time": "2021-07-28T05:32:47.500465Z",
     "start_time": "2021-07-28T05:32:47.484508Z"
    }
   },
   "outputs": [],
   "source": [
    "usd_3m_libor.clearFixings()"
   ]
  },
  {
   "cell_type": "code",
   "execution_count": 11,
   "id": "e290860b",
   "metadata": {
    "ExecuteTime": {
     "end_time": "2021-07-28T05:32:57.985407Z",
     "start_time": "2021-07-28T05:32:57.971481Z"
    }
   },
   "outputs": [
    {
     "name": "stdout",
     "output_type": "stream",
     "text": [
      "USD_3m_LIBOR3M Actual/Actual (ISDA) index\n"
     ]
    }
   ],
   "source": [
    "print(usd_3m_libor)"
   ]
  },
  {
   "cell_type": "code",
   "execution_count": null,
   "id": "acdfef52",
   "metadata": {},
   "outputs": [],
   "source": []
  }
 ],
 "metadata": {
  "hide_input": false,
  "kernelspec": {
   "display_name": "Python 3",
   "language": "python",
   "name": "python3"
  },
  "language_info": {
   "codemirror_mode": {
    "name": "ipython",
    "version": 3
   },
   "file_extension": ".py",
   "mimetype": "text/x-python",
   "name": "python",
   "nbconvert_exporter": "python",
   "pygments_lexer": "ipython3",
   "version": "3.8.5"
  },
  "toc": {
   "base_numbering": 1,
   "nav_menu": {},
   "number_sections": true,
   "sideBar": true,
   "skip_h1_title": false,
   "title_cell": "Table of Contents",
   "title_sidebar": "Contents",
   "toc_cell": false,
   "toc_position": {},
   "toc_section_display": true,
   "toc_window_display": false
  },
  "varInspector": {
   "cols": {
    "lenName": 16,
    "lenType": 16,
    "lenVar": 40
   },
   "kernels_config": {
    "python": {
     "delete_cmd_postfix": "",
     "delete_cmd_prefix": "del ",
     "library": "var_list.py",
     "varRefreshCmd": "print(var_dic_list())"
    },
    "r": {
     "delete_cmd_postfix": ") ",
     "delete_cmd_prefix": "rm(",
     "library": "var_list.r",
     "varRefreshCmd": "cat(var_dic_list()) "
    }
   },
   "types_to_exclude": [
    "module",
    "function",
    "builtin_function_or_method",
    "instance",
    "_Feature"
   ],
   "window_display": false
  }
 },
 "nbformat": 4,
 "nbformat_minor": 5
}
