{
 "cells": [
  {
   "cell_type": "markdown",
   "id": "83bb6478",
   "metadata": {},
   "source": [
    "```python\n",
    "\n",
    "ql.UnitedStates()\n",
    "ql.UnitedKingdom()\n",
    "ql.SouthKorea()\n",
    "ql.TARGET()  #유럽  Trans-Atlantic Region 어쩌구저쩌구\n",
    "ql.China()\n",
    "\n",
    "#BusincessDayConvention\n",
    "ql.Unadjusted\n",
    "ql.Preceding\n",
    "ql.ModifiedPreceding\n",
    "ql.Following\n",
    "ql.ModifiedFollowing\n",
    "\n",
    "#Fuctions\n",
    "ql.Calendar().holidayList(date, date)  # 두 날짜 사이에 휴일이 어떤 것이 잇는지 보여줘\n",
    "ql.Calendar().addHoliday(Date)\n",
    "ql.Calendar().removeHoliday(Date)\n",
    "ql.Calendar().businessDaysBetween(date, date)\n",
    "ql.Calendar().isBusinessDay(date)\n",
    "ql.Calendar().isHoliday(date)\n",
    "ql.Calendar().isEndOfMonth(date)\n",
    "ql.Calendar().advance(date, period, BusinessDayConvention)\n",
    "\n",
    "ql.JointCalendar(calendar, calendar ....)\n",
    "```"
   ]
  },
  {
   "cell_type": "code",
   "execution_count": 1,
   "id": "f77493d8",
   "metadata": {
    "ExecuteTime": {
     "end_time": "2021-08-02T14:41:29.132720Z",
     "start_time": "2021-08-02T14:41:29.033267Z"
    }
   },
   "outputs": [],
   "source": [
    "import QuantLib as ql"
   ]
  },
  {
   "cell_type": "code",
   "execution_count": 2,
   "id": "112e0e98",
   "metadata": {
    "ExecuteTime": {
     "end_time": "2021-08-02T14:41:30.235444Z",
     "start_time": "2021-08-02T14:41:30.221902Z"
    }
   },
   "outputs": [],
   "source": [
    "korea = ql.SouthKorea()\n",
    "us = ql.UnitedStates()\n",
    "uk = ql.UnitedKingdom()\n",
    "hk = ql.HongKong()\n",
    "eu = ql.TARGET()"
   ]
  },
  {
   "cell_type": "code",
   "execution_count": 3,
   "id": "55b4a29c",
   "metadata": {
    "ExecuteTime": {
     "end_time": "2021-08-02T14:41:55.955142Z",
     "start_time": "2021-08-02T14:41:55.885525Z"
    }
   },
   "outputs": [
    {
     "data": {
      "text/plain": [
       "(Date(1,1,2021),\n",
       " Date(11,2,2021),\n",
       " Date(12,2,2021),\n",
       " Date(1,3,2021),\n",
       " Date(5,5,2021),\n",
       " Date(19,5,2021),\n",
       " Date(20,9,2021),\n",
       " Date(21,9,2021),\n",
       " Date(22,9,2021),\n",
       " Date(31,12,2021))"
      ]
     },
     "execution_count": 3,
     "metadata": {},
     "output_type": "execute_result"
    }
   ],
   "source": [
    "korea.holidayList(ql.Date(1,1,2021), ql.Date(31,12,2021))"
   ]
  },
  {
   "cell_type": "code",
   "execution_count": 4,
   "id": "29984bcb",
   "metadata": {
    "ExecuteTime": {
     "end_time": "2021-08-02T14:42:12.592364Z",
     "start_time": "2021-08-02T14:42:12.542223Z"
    }
   },
   "outputs": [
    {
     "name": "stdout",
     "output_type": "stream",
     "text": [
      "(Date(1,1,2020), Date(24,1,2020), Date(27,1,2020), Date(15,4,2020), Date(30,4,2020), Date(1,5,2020), Date(5,5,2020), Date(17,8,2020), Date(30,9,2020), Date(1,10,2020), Date(2,10,2020), Date(9,10,2020), Date(25,12,2020), Date(31,12,2020))\n",
      "\n",
      "(Date(1,1,2020), Date(27,1,2020), Date(28,1,2020), Date(10,4,2020), Date(13,4,2020), Date(30,4,2020), Date(1,5,2020), Date(25,6,2020), Date(1,7,2020), Date(1,10,2020), Date(2,10,2020), Date(26,10,2020), Date(25,12,2020))\n"
     ]
    }
   ],
   "source": [
    "date1 = ql.Date(1,1,2020)\n",
    "date2 = ql.Date(31, 12,2020)\n",
    "\n",
    "print(korea.holidayList(date1, date2))\n",
    "print()\n",
    "print(hk.holidayList(date1, date2))"
   ]
  },
  {
   "cell_type": "code",
   "execution_count": 5,
   "id": "ee0f2438",
   "metadata": {
    "ExecuteTime": {
     "end_time": "2021-08-02T14:42:52.102562Z",
     "start_time": "2021-08-02T14:42:52.042121Z"
    }
   },
   "outputs": [
    {
     "data": {
      "text/plain": [
       "(Date(1,1,2021),\n",
       " Date(11,2,2021),\n",
       " Date(12,2,2021),\n",
       " Date(1,3,2021),\n",
       " Date(5,5,2021),\n",
       " Date(19,5,2021),\n",
       " Date(16,8,2021),\n",
       " Date(20,9,2021),\n",
       " Date(21,9,2021),\n",
       " Date(22,9,2021),\n",
       " Date(31,12,2021))"
      ]
     },
     "execution_count": 5,
     "metadata": {},
     "output_type": "execute_result"
    }
   ],
   "source": [
    "new_holiday = ql.Date(16, 8, 2021)\n",
    "korea.addHoliday(new_holiday)\n",
    "\n",
    "korea.holidayList(ql.Date(1,1,2021), ql.Date(31,12,2021))"
   ]
  },
  {
   "cell_type": "code",
   "execution_count": 6,
   "id": "fda6ad61",
   "metadata": {
    "ExecuteTime": {
     "end_time": "2021-08-02T14:45:12.077172Z",
     "start_time": "2021-08-02T14:45:12.027135Z"
    }
   },
   "outputs": [
    {
     "data": {
      "text/plain": [
       "(Date(1,1,2021),\n",
       " Date(11,2,2021),\n",
       " Date(12,2,2021),\n",
       " Date(1,3,2021),\n",
       " Date(5,5,2021),\n",
       " Date(19,5,2021),\n",
       " Date(20,9,2021),\n",
       " Date(21,9,2021),\n",
       " Date(22,9,2021),\n",
       " Date(31,12,2021))"
      ]
     },
     "execution_count": 6,
     "metadata": {},
     "output_type": "execute_result"
    }
   ],
   "source": [
    "korea.removeHoliday(ql.Date(16,8,2021))\n",
    "korea.holidayList(ql.Date(1,1,2021), ql.Date(31,12,2021))"
   ]
  },
  {
   "cell_type": "code",
   "execution_count": 13,
   "id": "7f654cf4",
   "metadata": {
    "ExecuteTime": {
     "end_time": "2021-08-02T14:49:55.201567Z",
     "start_time": "2021-08-02T14:49:55.187622Z"
    }
   },
   "outputs": [
    {
     "data": {
      "text/plain": [
       "251"
      ]
     },
     "execution_count": 13,
     "metadata": {},
     "output_type": "execute_result"
    }
   ],
   "source": [
    "date1 = ql.Date(1, 1, 2021)\n",
    "date2 = ql.Date(31, 12, 2021)\n",
    "\n",
    "korea.businessDaysBetween(date1, date2)"
   ]
  },
  {
   "cell_type": "markdown",
   "id": "37ac0410",
   "metadata": {},
   "source": [
    "-----------------------------------------------"
   ]
  },
  {
   "cell_type": "code",
   "execution_count": 15,
   "id": "feb75ddf",
   "metadata": {
    "ExecuteTime": {
     "end_time": "2021-08-02T14:50:35.279967Z",
     "start_time": "2021-08-02T14:50:35.267569Z"
    }
   },
   "outputs": [
    {
     "data": {
      "text/plain": [
       "True"
      ]
     },
     "execution_count": 15,
     "metadata": {},
     "output_type": "execute_result"
    }
   ],
   "source": [
    "korea.isHoliday(ql.Date(2,8,2020))"
   ]
  },
  {
   "cell_type": "code",
   "execution_count": 17,
   "id": "73b48784",
   "metadata": {
    "ExecuteTime": {
     "end_time": "2021-08-02T14:52:28.440234Z",
     "start_time": "2021-08-02T14:52:28.420690Z"
    }
   },
   "outputs": [
    {
     "name": "stdout",
     "output_type": "stream",
     "text": [
      "True\n",
      "False\n"
     ]
    }
   ],
   "source": [
    "todaysDate = ql.Date(1,1,2020).todaysDate()\n",
    "\n",
    "print(korea.isBusinessDay(todaysDate))\n",
    "print(korea.isEndOfMonth(todaysDate))"
   ]
  },
  {
   "cell_type": "markdown",
   "id": "60f1974a",
   "metadata": {},
   "source": [
    "```python\n",
    "#BusincessDayConvention\n",
    "ql.Unadjusted\n",
    "ql.Preceding\n",
    "ql.ModifiedPreceding\n",
    "ql.Following\n",
    "ql.ModifiedFollowing  #가장 많이 사용 / 휴일이랑 만기일 겹쳤을 때, 휴일 이후 만기일에 달이 바뀌면 휴일 전날로 만기일 조정. 그게 아니면 휴일 다음날로\n",
    "```"
   ]
  },
  {
   "cell_type": "code",
   "execution_count": 19,
   "id": "eefeda32",
   "metadata": {
    "ExecuteTime": {
     "end_time": "2021-08-02T14:55:47.401792Z",
     "start_time": "2021-08-02T14:55:47.379328Z"
    }
   },
   "outputs": [
    {
     "name": "stdout",
     "output_type": "stream",
     "text": [
      "November 2nd, 2021\n",
      "November 2nd, 2021\n"
     ]
    }
   ],
   "source": [
    "todaysDate = ql.Date().todaysDate()\n",
    "three_month = ql.Period(3, ql.Months)\n",
    "\n",
    "print(korea.advance(todaysDate, three_month, ql.Unadjusted))\n",
    "print(korea.advance(todaysDate, three_month, ql.ModifiedFollowing))"
   ]
  },
  {
   "cell_type": "code",
   "execution_count": 29,
   "id": "ba8e0019",
   "metadata": {
    "ExecuteTime": {
     "end_time": "2021-07-28T01:52:50.508171Z",
     "start_time": "2021-07-28T01:52:50.487384Z"
    }
   },
   "outputs": [
    {
     "name": "stdout",
     "output_type": "stream",
     "text": [
      "October 24th, 2020\n",
      "October 26th, 2020\n"
     ]
    }
   ],
   "source": [
    "todaysDate = ql.Date(24, 7, 2020)\n",
    "three_month = ql.Period(3, ql.Months) #3개월에 한번...\n",
    "\n",
    "print(korea.advance(todaysDate, three_month, ql.Unadjusted))  # 7월 24일 뒤인 3개월 뒤의 날짜로.\n",
    "print(korea.advance(todaysDate, three_month, ql.ModifiedFollowing))  # 10월 24일은 휴일임. 따라서 26일인 월요일로 조정"
   ]
  },
  {
   "cell_type": "code",
   "execution_count": 20,
   "id": "d8dab031",
   "metadata": {
    "ExecuteTime": {
     "end_time": "2021-08-02T14:57:01.522497Z",
     "start_time": "2021-08-02T14:57:01.451994Z"
    }
   },
   "outputs": [
    {
     "data": {
      "text/plain": [
       "(Date(1,1,2020),\n",
       " Date(20,1,2020),\n",
       " Date(24,1,2020),\n",
       " Date(27,1,2020),\n",
       " Date(28,1,2020),\n",
       " Date(17,2,2020),\n",
       " Date(10,4,2020),\n",
       " Date(13,4,2020),\n",
       " Date(15,4,2020),\n",
       " Date(30,4,2020),\n",
       " Date(1,5,2020),\n",
       " Date(5,5,2020),\n",
       " Date(25,5,2020),\n",
       " Date(25,6,2020),\n",
       " Date(1,7,2020),\n",
       " Date(3,7,2020),\n",
       " Date(17,8,2020),\n",
       " Date(7,9,2020),\n",
       " Date(30,9,2020),\n",
       " Date(1,10,2020),\n",
       " Date(2,10,2020),\n",
       " Date(9,10,2020),\n",
       " Date(12,10,2020),\n",
       " Date(26,10,2020),\n",
       " Date(11,11,2020),\n",
       " Date(26,11,2020),\n",
       " Date(25,12,2020),\n",
       " Date(31,12,2020))"
      ]
     },
     "execution_count": 20,
     "metadata": {},
     "output_type": "execute_result"
    }
   ],
   "source": [
    "date1 = ql.Date(1,1,2020)\n",
    "date2 = ql.Date(31, 12,2020)\n",
    "\n",
    "kr = ql.SouthKorea()\n",
    "hk = ql.HongKong()\n",
    "us = ql.UnitedStates()\n",
    "\n",
    "new_calendar = ql.JointCalendar(kr, hk, us)\n",
    "new_calendar.holidayList(date1, date2)"
   ]
  },
  {
   "cell_type": "markdown",
   "id": "2c24da0a",
   "metadata": {},
   "source": [
    "-------------------------------"
   ]
  },
  {
   "cell_type": "markdown",
   "id": "31e1bd70",
   "metadata": {},
   "source": [
    "1. 한국 달력에 임시공휴일 8월 17일을 추가하라\n",
    "\n"
   ]
  },
  {
   "cell_type": "code",
   "execution_count": 33,
   "id": "a43c212f",
   "metadata": {
    "ExecuteTime": {
     "end_time": "2021-07-28T02:03:16.535664Z",
     "start_time": "2021-07-28T02:03:16.511989Z"
    }
   },
   "outputs": [
    {
     "data": {
      "text/plain": [
       "(Date(1,1,2020),\n",
       " Date(24,1,2020),\n",
       " Date(27,1,2020),\n",
       " Date(15,4,2020),\n",
       " Date(30,4,2020),\n",
       " Date(1,5,2020),\n",
       " Date(5,5,2020),\n",
       " Date(17,8,2020),\n",
       " Date(30,9,2020),\n",
       " Date(1,10,2020),\n",
       " Date(2,10,2020),\n",
       " Date(9,10,2020),\n",
       " Date(25,12,2020),\n",
       " Date(31,12,2020))"
      ]
     },
     "execution_count": 33,
     "metadata": {},
     "output_type": "execute_result"
    }
   ],
   "source": [
    "date1 = ql.Date(1,1,2020)\n",
    "date2 = ql.Date(31, 12,2020)\n",
    "\n",
    "korea = ql.SouthKorea()\n",
    "korea.addHoliday(ql.Date(17,8,2020))\n",
    "korea.holidayList(date1, date2)"
   ]
  },
  {
   "cell_type": "markdown",
   "id": "19c0a109",
   "metadata": {},
   "source": [
    "2. Modified Following 방식일 때 2020년 7월 27일로부터 3분기 후의 날짜는?"
   ]
  },
  {
   "cell_type": "code",
   "execution_count": 21,
   "id": "4cd4da69",
   "metadata": {
    "ExecuteTime": {
     "end_time": "2021-08-02T14:57:33.577510Z",
     "start_time": "2021-08-02T14:57:33.556517Z"
    }
   },
   "outputs": [
    {
     "data": {
      "text/plain": [
       "Date(2,11,2021)"
      ]
     },
     "execution_count": 21,
     "metadata": {},
     "output_type": "execute_result"
    }
   ],
   "source": [
    "korea.advance(ql.Date(2, 8, 2021), ql.Period(3, ql.Months), ql.ModifiedFollowing)"
   ]
  },
  {
   "cell_type": "markdown",
   "id": "a49b7074",
   "metadata": {},
   "source": [
    "3. 미국 + 유럽 달력에서 2020년 9우러 1일부터 10월 20일까지의 영업일수는?"
   ]
  },
  {
   "cell_type": "code",
   "execution_count": 22,
   "id": "9d1f27e9",
   "metadata": {
    "ExecuteTime": {
     "end_time": "2021-08-02T14:58:22.083323Z",
     "start_time": "2021-08-02T14:58:22.067777Z"
    }
   },
   "outputs": [
    {
     "data": {
      "text/plain": [
       "33"
      ]
     },
     "execution_count": 22,
     "metadata": {},
     "output_type": "execute_result"
    }
   ],
   "source": [
    "us_uk = ql.JointCalendar(ql.UnitedStates(), ql.UnitedKingdom())\n",
    "us_uk.businessDaysBetween(ql.Date(1,9,2020), ql.Date(20,10,2020))"
   ]
  }
 ],
 "metadata": {
  "hide_input": false,
  "kernelspec": {
   "display_name": "Python 3",
   "language": "python",
   "name": "python3"
  },
  "language_info": {
   "codemirror_mode": {
    "name": "ipython",
    "version": 3
   },
   "file_extension": ".py",
   "mimetype": "text/x-python",
   "name": "python",
   "nbconvert_exporter": "python",
   "pygments_lexer": "ipython3",
   "version": "3.8.5"
  },
  "toc": {
   "base_numbering": 1,
   "nav_menu": {},
   "number_sections": true,
   "sideBar": true,
   "skip_h1_title": false,
   "title_cell": "Table of Contents",
   "title_sidebar": "Contents",
   "toc_cell": false,
   "toc_position": {},
   "toc_section_display": true,
   "toc_window_display": false
  },
  "varInspector": {
   "cols": {
    "lenName": 16,
    "lenType": 16,
    "lenVar": 40
   },
   "kernels_config": {
    "python": {
     "delete_cmd_postfix": "",
     "delete_cmd_prefix": "del ",
     "library": "var_list.py",
     "varRefreshCmd": "print(var_dic_list())"
    },
    "r": {
     "delete_cmd_postfix": ") ",
     "delete_cmd_prefix": "rm(",
     "library": "var_list.r",
     "varRefreshCmd": "cat(var_dic_list()) "
    }
   },
   "types_to_exclude": [
    "module",
    "function",
    "builtin_function_or_method",
    "instance",
    "_Feature"
   ],
   "window_display": false
  }
 },
 "nbformat": 4,
 "nbformat_minor": 5
}
