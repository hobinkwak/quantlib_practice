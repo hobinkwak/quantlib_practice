{
 "cells": [
  {
   "cell_type": "markdown",
   "id": "07b9c78a",
   "metadata": {},
   "source": [
    "**DayCounter : 이자일수 계산방식을 위한 클래스 **\n",
    "\n",
    "```python\n",
    "\n",
    "#이자는 휴일도 포함해서 계산\n",
    "ql.Actual360() \n",
    "ql.Actual365Fixed()\n",
    "ql.ActualActual  #우리나라는 주로 이거.\n",
    "ql.Business252()\n",
    "ql.Thirty360() #한달이자는 무조건 30일로 계산한다.\n",
    "# ~360은 선진시장 (미국, 유럽)의 관행\n",
    "\n",
    "\n",
    "\n",
    "#Functions\n",
    "ql.DayCounter().dayCount(Date, Date)   # 두 날짜 사이의 이자일수 계산. \n",
    "ql.DayCounter().yearFraction(Date, Date)  # 연율화. 6개월이면 0.5년\n",
    "```"
   ]
  },
  {
   "cell_type": "code",
   "execution_count": 1,
   "id": "2e4e0ec0",
   "metadata": {
    "ExecuteTime": {
     "end_time": "2021-08-09T15:03:35.895326Z",
     "start_time": "2021-08-09T15:03:35.671373Z"
    }
   },
   "outputs": [],
   "source": [
    "import QuantLib as ql"
   ]
  },
  {
   "cell_type": "code",
   "execution_count": 2,
   "id": "fc3fb826",
   "metadata": {
    "ExecuteTime": {
     "end_time": "2021-08-09T15:03:44.502269Z",
     "start_time": "2021-08-09T15:03:44.485314Z"
    }
   },
   "outputs": [],
   "source": [
    "act360 = ql.Actual360()\n",
    "date1 = ql.Date(1, 7, 2021)\n",
    "date2 = ql.Date(1, 8, 2021)"
   ]
  },
  {
   "cell_type": "code",
   "execution_count": 3,
   "id": "4f1dd6b9",
   "metadata": {
    "ExecuteTime": {
     "end_time": "2021-08-09T15:04:00.839023Z",
     "start_time": "2021-08-09T15:04:00.822067Z"
    }
   },
   "outputs": [
    {
     "data": {
      "text/plain": [
       "31"
      ]
     },
     "execution_count": 3,
     "metadata": {},
     "output_type": "execute_result"
    }
   ],
   "source": [
    "act360.dayCount(date1, date2)"
   ]
  },
  {
   "cell_type": "code",
   "execution_count": 4,
   "id": "18ce05d0",
   "metadata": {
    "ExecuteTime": {
     "end_time": "2021-08-09T15:04:10.928532Z",
     "start_time": "2021-08-09T15:04:10.917560Z"
    }
   },
   "outputs": [
    {
     "data": {
      "text/plain": [
       "0.08611111111111111"
      ]
     },
     "execution_count": 4,
     "metadata": {},
     "output_type": "execute_result"
    }
   ],
   "source": [
    "act360.yearFraction(date1, date2)"
   ]
  },
  {
   "cell_type": "code",
   "execution_count": 11,
   "id": "30d42a4c",
   "metadata": {
    "ExecuteTime": {
     "end_time": "2021-08-02T15:01:32.208430Z",
     "start_time": "2021-08-02T15:01:32.190721Z"
    }
   },
   "outputs": [
    {
     "name": "stdout",
     "output_type": "stream",
     "text": [
      "136\n",
      "0.3726027397260274\n"
     ]
    }
   ],
   "source": [
    "act365 = ql.Actual365Fixed()\n",
    "date1 = ql.Date(28,7,2020)\n",
    "date2 = ql.Date(11, 12, 2020)\n",
    "\n",
    "print(act365.dayCount(date1, date2))\n",
    "print(act365.yearFraction(date1, date2))"
   ]
  },
  {
   "cell_type": "code",
   "execution_count": 12,
   "id": "acb32ce4",
   "metadata": {
    "ExecuteTime": {
     "end_time": "2021-08-02T15:01:35.347057Z",
     "start_time": "2021-08-02T15:01:35.325333Z"
    }
   },
   "outputs": [
    {
     "name": "stdout",
     "output_type": "stream",
     "text": [
      "133\n",
      "0.36944444444444446\n"
     ]
    }
   ],
   "source": [
    "thirty360 = ql.Thirty360()\n",
    "date1 = ql.Date(28,7,2020)\n",
    "date2 = ql.Date(11, 12, 2020)\n",
    "\n",
    "print(thirty360.dayCount(date1, date2))\n",
    "print(thirty360.yearFraction(date1, date2))"
   ]
  },
  {
   "cell_type": "markdown",
   "id": "960b882e",
   "metadata": {},
   "source": [
    "-------------------------------"
   ]
  },
  {
   "cell_type": "markdown",
   "id": "db11c2db",
   "metadata": {},
   "source": [
    "1. ACT/ACT 방식에서 2021년 1월 1일부터 12월 31일까지의 이자일수는?"
   ]
  },
  {
   "cell_type": "code",
   "execution_count": 16,
   "id": "b2d69e36",
   "metadata": {
    "ExecuteTime": {
     "end_time": "2021-08-02T15:03:32.798774Z",
     "start_time": "2021-08-02T15:03:32.774222Z"
    }
   },
   "outputs": [
    {
     "data": {
      "text/plain": [
       "364"
      ]
     },
     "execution_count": 16,
     "metadata": {},
     "output_type": "execute_result"
    }
   ],
   "source": [
    "actact = ql.ActualActual()\n",
    "\n",
    "date1 = ql.Date(1,1,2021)\n",
    "date2 = ql.Date(31, 12, 2021)\n",
    "\n",
    "actact.dayCount(date1, date2)"
   ]
  },
  {
   "cell_type": "markdown",
   "id": "e6de1c2f",
   "metadata": {},
   "source": [
    "2. ACT/360 방식에서 2020년8월 5일부터 9월 5일까지의 이자일수는?"
   ]
  },
  {
   "cell_type": "code",
   "execution_count": 12,
   "id": "96fd387a",
   "metadata": {
    "ExecuteTime": {
     "end_time": "2021-07-28T02:35:01.490629Z",
     "start_time": "2021-07-28T02:35:01.472676Z"
    }
   },
   "outputs": [
    {
     "name": "stdout",
     "output_type": "stream",
     "text": [
      "31\n"
     ]
    }
   ],
   "source": [
    "act360 = ql.Actual360()\n",
    "\n",
    "date1 = ql.Date(5,8,2020)\n",
    "date2 = ql.Date(5,9,2020)\n",
    "\n",
    "print(act360.dayCount(date1, date2))"
   ]
  },
  {
   "cell_type": "markdown",
   "id": "a8812c3a",
   "metadata": {},
   "source": [
    "3. ACT/365 방식에서 10월 1일부터 12월 10일까지의 연율화?"
   ]
  },
  {
   "cell_type": "code",
   "execution_count": 17,
   "id": "b3a27455",
   "metadata": {
    "ExecuteTime": {
     "end_time": "2021-08-02T15:04:18.489387Z",
     "start_time": "2021-08-02T15:04:18.462735Z"
    }
   },
   "outputs": [
    {
     "data": {
      "text/plain": [
       "0.1917808219178082"
      ]
     },
     "execution_count": 17,
     "metadata": {},
     "output_type": "execute_result"
    }
   ],
   "source": [
    "act365 = ql.Actual365Fixed()\n",
    "\n",
    "date1 = ql.Date(1, 10, 2020)\n",
    "date2 = ql.Date(10, 12, 2020)\n",
    "\n",
    "act365.yearFraction(date1, date2)"
   ]
  }
 ],
 "metadata": {
  "hide_input": false,
  "kernelspec": {
   "display_name": "Python 3",
   "language": "python",
   "name": "python3"
  },
  "language_info": {
   "codemirror_mode": {
    "name": "ipython",
    "version": 3
   },
   "file_extension": ".py",
   "mimetype": "text/x-python",
   "name": "python",
   "nbconvert_exporter": "python",
   "pygments_lexer": "ipython3",
   "version": "3.8.5"
  },
  "toc": {
   "base_numbering": 1,
   "nav_menu": {},
   "number_sections": true,
   "sideBar": true,
   "skip_h1_title": false,
   "title_cell": "Table of Contents",
   "title_sidebar": "Contents",
   "toc_cell": false,
   "toc_position": {},
   "toc_section_display": true,
   "toc_window_display": false
  },
  "varInspector": {
   "cols": {
    "lenName": 16,
    "lenType": 16,
    "lenVar": 40
   },
   "kernels_config": {
    "python": {
     "delete_cmd_postfix": "",
     "delete_cmd_prefix": "del ",
     "library": "var_list.py",
     "varRefreshCmd": "print(var_dic_list())"
    },
    "r": {
     "delete_cmd_postfix": ") ",
     "delete_cmd_prefix": "rm(",
     "library": "var_list.r",
     "varRefreshCmd": "cat(var_dic_list()) "
    }
   },
   "types_to_exclude": [
    "module",
    "function",
    "builtin_function_or_method",
    "instance",
    "_Feature"
   ],
   "window_display": false
  }
 },
 "nbformat": 4,
 "nbformat_minor": 5
}
