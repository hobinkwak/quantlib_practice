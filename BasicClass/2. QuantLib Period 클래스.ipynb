{
 "cells": [
  {
   "cell_type": "code",
   "execution_count": 3,
   "id": "ed911854",
   "metadata": {
    "ExecuteTime": {
     "end_time": "2021-08-02T14:34:36.317425Z",
     "start_time": "2021-08-02T14:34:36.312034Z"
    }
   },
   "outputs": [],
   "source": [
    "import QuantLib as ql"
   ]
  },
  {
   "cell_type": "markdown",
   "id": "c3be6c7b",
   "metadata": {},
   "source": [
    "- TimeUnits\n",
    "    - ql.Days\n",
    "    - ql.Weeks\n",
    "    - ql.Months\n",
    "    - ql.Years\n",
    "    \n",
    "- Frequency\n",
    "    - ql.Annual / Semiannual / Quarterly / Monthly / Biweekly / Weekly / Daily / Once\n",
    "    \n",
    "    \n",
    "- ql.Period(Integer, Timeunits)\n",
    "- ql.Period(Frequency)\n",
    "\n",
    "\n",
    "- ql.Date() + ql.Date()\n",
    "- ql.Date() + ql.Period()"
   ]
  },
  {
   "cell_type": "code",
   "execution_count": 4,
   "id": "023a8ab4",
   "metadata": {
    "ExecuteTime": {
     "end_time": "2021-08-02T14:34:37.528847Z",
     "start_time": "2021-08-02T14:34:37.515438Z"
    }
   },
   "outputs": [
    {
     "data": {
      "text/plain": [
       "Date(2,11,2020)"
      ]
     },
     "execution_count": 4,
     "metadata": {},
     "output_type": "execute_result"
    }
   ],
   "source": [
    "three_month = ql.Period(3, ql.Months)\n",
    "bi_week = ql.Period(2, ql.Weeks)\n",
    "\n",
    "three_month_2 = ql.Period(ql.Quarterly)\n",
    "biweek = ql.Period(ql.Biweekly)\n",
    "\n",
    "ql.Date(2,8,2020) + three_month_2"
   ]
  },
  {
   "cell_type": "code",
   "execution_count": 6,
   "id": "8c3b0a9a",
   "metadata": {
    "ExecuteTime": {
     "end_time": "2021-07-28T01:16:33.470963Z",
     "start_time": "2021-07-28T01:16:33.452918Z"
    }
   },
   "outputs": [
    {
     "data": {
      "text/plain": [
       "(Period(\"3M\"), Period(\"4M\"))"
      ]
     },
     "execution_count": 6,
     "metadata": {},
     "output_type": "execute_result"
    }
   ],
   "source": [
    "freq = ql.Period(ql.Quarterly)\n",
    "freq2 = ql.Period(4, ql.Months) #4개월마다 이자를 지급한다.\n",
    "\n",
    "freq, freq2"
   ]
  },
  {
   "cell_type": "code",
   "execution_count": 6,
   "id": "6aef0e9b",
   "metadata": {
    "ExecuteTime": {
     "end_time": "2021-08-02T14:35:30.908291Z",
     "start_time": "2021-08-02T14:35:30.889889Z"
    }
   },
   "outputs": [
    {
     "data": {
      "text/plain": [
       "Date(1,4,2020)"
      ]
     },
     "execution_count": 6,
     "metadata": {},
     "output_type": "execute_result"
    }
   ],
   "source": [
    "date1 = ql.Date(27, 7, 2020)\n",
    "date2 = ql.Date(1, 1, 2020)\n",
    "period1 = ql.Period(3, ql.Months)\n",
    "\n",
    "date2 + period1"
   ]
  },
  {
   "cell_type": "code",
   "execution_count": 7,
   "id": "4d44c4d2",
   "metadata": {
    "ExecuteTime": {
     "end_time": "2021-08-02T14:35:36.331595Z",
     "start_time": "2021-08-02T14:35:36.309936Z"
    }
   },
   "outputs": [
    {
     "data": {
      "text/plain": [
       "Date(27,4,2020)"
      ]
     },
     "execution_count": 7,
     "metadata": {},
     "output_type": "execute_result"
    }
   ],
   "source": [
    "date1 - period1"
   ]
  },
  {
   "cell_type": "code",
   "execution_count": 8,
   "id": "bebe83f9",
   "metadata": {
    "ExecuteTime": {
     "end_time": "2021-08-02T14:35:48.666317Z",
     "start_time": "2021-08-02T14:35:48.650164Z"
    }
   },
   "outputs": [
    {
     "name": "stdout",
     "output_type": "stream",
     "text": [
      "October 27th, 2020\n",
      "April 18th, 2020\n"
     ]
    }
   ],
   "source": [
    "date1 = ql.Date(27, 7, 2020)\n",
    "three_month = ql.Period(3, ql.Months)\n",
    "hundred_days = ql.Period(100, ql.Days)\n",
    "\n",
    "print(date1 + three_month)\n",
    "print(date1 - hundred_days)"
   ]
  },
  {
   "cell_type": "markdown",
   "id": "bf166630",
   "metadata": {},
   "source": [
    "- 예제"
   ]
  },
  {
   "cell_type": "markdown",
   "id": "dd82f241",
   "metadata": {},
   "source": [
    "1. 2020년 7월 1일부터 2020년 9월 1일까지는 총 몇 일?"
   ]
  },
  {
   "cell_type": "code",
   "execution_count": 9,
   "id": "6a77f5a0",
   "metadata": {
    "ExecuteTime": {
     "end_time": "2021-08-02T14:36:00.165931Z",
     "start_time": "2021-08-02T14:36:00.148187Z"
    }
   },
   "outputs": [
    {
     "data": {
      "text/plain": [
       "62"
      ]
     },
     "execution_count": 9,
     "metadata": {},
     "output_type": "execute_result"
    }
   ],
   "source": [
    "ql.Date(1,9,2020) - ql.Date(1,7,2020)"
   ]
  },
  {
   "cell_type": "markdown",
   "id": "d2be58ac",
   "metadata": {},
   "source": [
    "2. 2020년 7월 27일로부터 1분기 이후의 날짜는?\n"
   ]
  },
  {
   "cell_type": "code",
   "execution_count": 24,
   "id": "360a90d7",
   "metadata": {
    "ExecuteTime": {
     "end_time": "2021-08-02T14:37:55.814214Z",
     "start_time": "2021-08-02T14:37:55.799795Z"
    }
   },
   "outputs": [
    {
     "name": "stdout",
     "output_type": "stream",
     "text": [
      "27 일\n",
      "10 월\n",
      "2020 년\n"
     ]
    }
   ],
   "source": [
    "new_date = ql.Date(27, 7, 2020) + ql.Period(ql.Quarterly)\n",
    "print(new_date.dayOfMonth(), \"일\")\n",
    "print(new_date.month(), '월')\n",
    "print(new_date.year(), '년')"
   ]
  },
  {
   "cell_type": "markdown",
   "id": "f67f9944",
   "metadata": {},
   "source": [
    "3. 2020년 7월 27일로부터 3주 전인 날짜는?"
   ]
  },
  {
   "cell_type": "code",
   "execution_count": 25,
   "id": "79dd378d",
   "metadata": {
    "ExecuteTime": {
     "end_time": "2021-08-02T14:38:00.067553Z",
     "start_time": "2021-08-02T14:38:00.042850Z"
    }
   },
   "outputs": [
    {
     "data": {
      "text/plain": [
       "Date(6,7,2020)"
      ]
     },
     "execution_count": 25,
     "metadata": {},
     "output_type": "execute_result"
    }
   ],
   "source": [
    "ql.Date(27,7,2020) - ql.Period(3, ql.Weeks)"
   ]
  },
  {
   "cell_type": "code",
   "execution_count": null,
   "id": "04a6c401",
   "metadata": {},
   "outputs": [],
   "source": []
  }
 ],
 "metadata": {
  "hide_input": false,
  "kernelspec": {
   "display_name": "Python 3",
   "language": "python",
   "name": "python3"
  },
  "language_info": {
   "codemirror_mode": {
    "name": "ipython",
    "version": 3
   },
   "file_extension": ".py",
   "mimetype": "text/x-python",
   "name": "python",
   "nbconvert_exporter": "python",
   "pygments_lexer": "ipython3",
   "version": "3.8.5"
  },
  "toc": {
   "base_numbering": 1,
   "nav_menu": {},
   "number_sections": true,
   "sideBar": true,
   "skip_h1_title": false,
   "title_cell": "Table of Contents",
   "title_sidebar": "Contents",
   "toc_cell": false,
   "toc_position": {},
   "toc_section_display": true,
   "toc_window_display": false
  },
  "varInspector": {
   "cols": {
    "lenName": 16,
    "lenType": 16,
    "lenVar": 40
   },
   "kernels_config": {
    "python": {
     "delete_cmd_postfix": "",
     "delete_cmd_prefix": "del ",
     "library": "var_list.py",
     "varRefreshCmd": "print(var_dic_list())"
    },
    "r": {
     "delete_cmd_postfix": ") ",
     "delete_cmd_prefix": "rm(",
     "library": "var_list.r",
     "varRefreshCmd": "cat(var_dic_list()) "
    }
   },
   "types_to_exclude": [
    "module",
    "function",
    "builtin_function_or_method",
    "instance",
    "_Feature"
   ],
   "window_display": false
  }
 },
 "nbformat": 4,
 "nbformat_minor": 5
}
