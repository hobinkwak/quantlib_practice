{
 "cells": [
  {
   "attachments": {},
   "cell_type": "markdown",
   "id": "17c429b9",
   "metadata": {},
   "source": [
    "**Quote : 기초자산 가격 입력을 위한 클래스**\n",
    "\n",
    "```python\n",
    "ql.SimpleQuote(Real value)\n",
    "\n",
    "#Functions\n",
    "ql.SimpleQuote().value()\n",
    "ql.SimpleQuote().setValue(Real)\n",
    "```\n"
   ]
  },
  {
   "cell_type": "code",
   "execution_count": 1,
   "id": "4a8effe1",
   "metadata": {
    "ExecuteTime": {
     "end_time": "2021-08-09T15:08:29.858509Z",
     "start_time": "2021-08-09T15:08:29.790032Z"
    }
   },
   "outputs": [],
   "source": [
    "import QuantLib as ql"
   ]
  },
  {
   "cell_type": "code",
   "execution_count": 4,
   "id": "a124b18c",
   "metadata": {
    "ExecuteTime": {
     "end_time": "2021-08-09T15:08:56.421832Z",
     "start_time": "2021-08-09T15:08:56.414844Z"
    }
   },
   "outputs": [
    {
     "name": "stdout",
     "output_type": "stream",
     "text": [
      "10000.0\n",
      "12000.0\n"
     ]
    }
   ],
   "source": [
    "stock_price = ql.SimpleQuote(10000)\n",
    "print(stock_price.value())\n",
    "stock_price.setValue(12000)\n",
    "print(stock_price.value())"
   ]
  },
  {
   "cell_type": "markdown",
   "id": "723bd13d",
   "metadata": {},
   "source": [
    "**InterestRate : 금리, 할인계수, 복리계수**"
   ]
  },
  {
   "cell_type": "markdown",
   "id": "e5181c7c",
   "metadata": {},
   "source": [
    "- compound Factor : 복리계수\n",
    "- **Discount Factor : 할인계수**"
   ]
  },
  {
   "cell_type": "markdown",
   "id": "0c42b0b3",
   "metadata": {},
   "source": [
    "```python\n",
    "ql.InterestRate(Real rate,\n",
    "                DayCounter dayCounter,\n",
    "                Compounding comp,\n",
    "                Frequency freq,)\n",
    "\n",
    "#Compounding\n",
    "ql.Simple  #단리\n",
    "ql.Compounded #복리\n",
    "ql.Continuous  #복리를 시간을 무수히 잘게 쪼게서 무한대로 보내면 ... 연속복리 (아래의 그림에서 복리 공식 f를 무한대로)\n",
    "ql.SimpleThenCompounded \n",
    "ql.CompoundedThenSimple\n",
    "\n",
    "#Functions\n",
    "ql.InterestRate().rate()\n",
    "ql.InterestRate().compounding()\n",
    "ql.InterestRate().dayCounter()\n",
    "ql.InterestRate().frequency()\n",
    "ql.InterestRate().discountFactor(Time year_unit)\n",
    "ql.InterestRate().discountFactor(Date start_date, Date end_date)\n",
    "ql.InterestRate().compoundFactor(Time year_unit)\n",
    "ql.InterestRate().compoundFactor(Date start_date, Date end_date)\n",
    "\n",
    "ql.InterestRate().equivalentRate(Compounding compounding,\n",
    "                                 Frequency freq,\n",
    "                                 Time t)\n",
    "# 같은 명목금리라고 할 때, 산출 방식에 따른 실질금리 차이 \n",
    "\n",
    "\n",
    "ql.InterestRate().equivalentRate(DayCounter dayCounter,\n",
    "                                 Compounding compounding,\n",
    "                                 Frequency freq,\n",
    "                                 Date start_date,\n",
    "                                 Date end_date)\n",
    "\n",
    "\n",
    "# 우리가 금리를 모를때.. 대신 복리계수를 아는데... 여기에 숨겨진 명목금리는 얼마인가\n",
    "ql.InterestRate().impliedRate(Real compoundFactor,\n",
    "                              DayCounter dayCounter,\n",
    "                              Compounding compounding,\n",
    "                              Frequency freq,\n",
    "                              Date start_date,\n",
    "                              Date end_date)\n",
    "\n",
    "```"
   ]
  },
  {
   "cell_type": "code",
   "execution_count": 7,
   "id": "5f0f3664",
   "metadata": {
    "ExecuteTime": {
     "end_time": "2021-07-28T04:04:20.256496Z",
     "start_time": "2021-07-28T04:04:20.245526Z"
    }
   },
   "outputs": [],
   "source": [
    "rate = 0.01\n",
    "dayCounter = ql.ActualActual()\n",
    "comp = ql.Compounded\n",
    "freq = ql.Quarterly #분기  \n",
    "#3개월마다 복리로\n",
    "#명목금리는 1%\n",
    "\n",
    "ir = ql.InterestRate(rate, dayCounter, comp, freq)"
   ]
  },
  {
   "cell_type": "code",
   "execution_count": 12,
   "id": "ee6f6df1",
   "metadata": {
    "ExecuteTime": {
     "end_time": "2021-07-28T04:04:59.856773Z",
     "start_time": "2021-07-28T04:04:59.848794Z"
    }
   },
   "outputs": [
    {
     "name": "stdout",
     "output_type": "stream",
     "text": [
      "Actual/Actual (ISDA) day counter\n"
     ]
    },
    {
     "data": {
      "text/plain": [
       "(0.01, 4, 1)"
      ]
     },
     "execution_count": 12,
     "metadata": {},
     "output_type": "execute_result"
    }
   ],
   "source": [
    "print(ir.dayCounter())\n",
    "ir.rate(), ir.frequency(), ir.compounding()"
   ]
  },
  {
   "cell_type": "code",
   "execution_count": 14,
   "id": "c45b27c1",
   "metadata": {
    "ExecuteTime": {
     "end_time": "2021-07-28T04:09:13.799150Z",
     "start_time": "2021-07-28T04:09:13.786189Z"
    }
   },
   "outputs": [
    {
     "data": {
      "text/plain": [
       "0.9900892063524968"
      ]
     },
     "execution_count": 14,
     "metadata": {},
     "output_type": "execute_result"
    }
   ],
   "source": [
    "start_date = ql.Date(1,1,2020)\n",
    "end_date = ql.Date(31,12,2020)\n",
    "\n",
    "ir.discountFactor(start_date, end_date)"
   ]
  },
  {
   "cell_type": "code",
   "execution_count": 15,
   "id": "58d8baea",
   "metadata": {
    "ExecuteTime": {
     "end_time": "2021-07-28T04:09:22.161446Z",
     "start_time": "2021-07-28T04:09:22.142470Z"
    }
   },
   "outputs": [
    {
     "data": {
      "text/plain": [
       "1.0100100006988408"
      ]
     },
     "execution_count": 15,
     "metadata": {},
     "output_type": "execute_result"
    }
   ],
   "source": [
    "ir.compoundFactor(start_date, end_date)"
   ]
  },
  {
   "cell_type": "code",
   "execution_count": 18,
   "id": "e63bfa6b",
   "metadata": {
    "ExecuteTime": {
     "end_time": "2021-07-28T04:13:31.310871Z",
     "start_time": "2021-07-28T04:13:31.298890Z"
    }
   },
   "outputs": [],
   "source": [
    "rate = 0.02\n",
    "dayCounter = ql.Actual360()\n",
    "comp = ql.Compounded\n",
    "freq = ql.Annual\n",
    "\n",
    "ir1 = ql.InterestRate(rate, dayCounter, comp, freq)"
   ]
  },
  {
   "cell_type": "code",
   "execution_count": 19,
   "id": "e86ab5ed",
   "metadata": {
    "ExecuteTime": {
     "end_time": "2021-07-28T04:13:43.202147Z",
     "start_time": "2021-07-28T04:13:43.187223Z"
    }
   },
   "outputs": [
    {
     "name": "stdout",
     "output_type": "stream",
     "text": [
      "2.013267 % Actual/Actual (ISDA) continuous compounding\n"
     ]
    }
   ],
   "source": [
    "# 새로운 방식\n",
    "dayCounter2 = ql.ActualActual()\n",
    "comp2 = ql.Continuous\n",
    "freq2 = ql.Quarterly\n",
    "start_date = ql.Date(1,1,2020)\n",
    "end_date = ql.Date(31,12,2020)\n",
    "\n",
    "print(ir1.equivalentRate(dayCounter2, comp2, freq2, start_date, end_date))"
   ]
  },
  {
   "cell_type": "code",
   "execution_count": 20,
   "id": "7de2d397",
   "metadata": {
    "ExecuteTime": {
     "end_time": "2021-07-28T04:17:23.170097Z",
     "start_time": "2021-07-28T04:17:23.161121Z"
    }
   },
   "outputs": [
    {
     "name": "stdout",
     "output_type": "stream",
     "text": [
      "5.014036 % Actual/Actual (ISDA) Annual compounding\n"
     ]
    }
   ],
   "source": [
    "# 1년동안의 복리계수가 1.05이고 아래의 방식을 사용할때....\n",
    "# 여기에 내재되어 있는 실질 금리는 얼마냐?\n",
    "compoundFactor = 1.05\n",
    "dayCounter = ql.ActualActual()\n",
    "comp = ql.Compounded\n",
    "freq = ql.Annual\n",
    "date1 = ql.Date(1,1,2020)\n",
    "date2 = ql.Date(31,12,2020)\n",
    "\n",
    "#여기는 그냥 불러오는 거에 불과하고...\n",
    "rate = 0.02\n",
    "ir = ql.InterestRate(rate, dayCounter, comp, freq)\n",
    "\n",
    "print(ir.impliedRate(compoundFactor, dayCounter, comp, freq, date1, date2))"
   ]
  },
  {
   "cell_type": "markdown",
   "id": "487283f1",
   "metadata": {},
   "source": [
    "1. Act/Act로 계산하는 분기 복리 방식의 금리호가가 1%라고 할때, 2020년 8월 3일부터 2021년 12월 9일까지 기간 동안의 할인계수는?"
   ]
  },
  {
   "cell_type": "code",
   "execution_count": 5,
   "id": "fa287afa",
   "metadata": {
    "ExecuteTime": {
     "end_time": "2021-08-09T15:12:54.390740Z",
     "start_time": "2021-08-09T15:12:54.368798Z"
    }
   },
   "outputs": [
    {
     "data": {
      "text/plain": [
       "0.9866117262824531"
      ]
     },
     "execution_count": 5,
     "metadata": {},
     "output_type": "execute_result"
    }
   ],
   "source": [
    "rate = 0.01\n",
    "dayCounter = ql.ActualActual()\n",
    "compo = ql.Compounded\n",
    "freq = ql.Quarterly\n",
    "\n",
    "ir = ql.InterestRate(rate, dayCounter, compo, freq)\n",
    "ir.discountFactor(ql.Date(3,8,2020), ql.Date(9,12,2021))"
   ]
  },
  {
   "cell_type": "code",
   "execution_count": 37,
   "id": "188fee34",
   "metadata": {
    "ExecuteTime": {
     "end_time": "2021-07-28T04:41:43.109839Z",
     "start_time": "2021-07-28T04:41:43.091909Z"
    }
   },
   "outputs": [
    {
     "name": "stdout",
     "output_type": "stream",
     "text": [
      "0.9866117262824531\n",
      "1.0135699519485684\n"
     ]
    }
   ],
   "source": [
    "rate= 0.01\n",
    "dayCounter= ql.ActualActual()\n",
    "comp = ql.Compounded\n",
    "freq = ql.Quarterly\n",
    "\n",
    "ir = ql.InterestRate(rate, dayCounter, comp, freq)\n",
    "print(ir.discountFactor(ql.Date(3,8,2020), ql.Date(9,12,2021)))\n",
    "\n",
    "# 할인계수의 역수는 복리계수\n",
    "print(1 / (ir.discountFactor(ql.Date(3,8,2020), ql.Date(9,12,2021))))"
   ]
  },
  {
   "cell_type": "markdown",
   "id": "e3b61319",
   "metadata": {},
   "source": [
    "2. Act/Act로 계산하는 분기 복리 방식의 금리호가가 1%라고 할 때, 2020년 8월 3일부터 2021년 12월 9일까지의 복리계수는?"
   ]
  },
  {
   "cell_type": "code",
   "execution_count": 26,
   "id": "488c3070",
   "metadata": {
    "ExecuteTime": {
     "end_time": "2021-07-28T04:24:15.197617Z",
     "start_time": "2021-07-28T04:24:15.191796Z"
    }
   },
   "outputs": [
    {
     "name": "stdout",
     "output_type": "stream",
     "text": [
      "1.0135699519485684\n"
     ]
    }
   ],
   "source": [
    "rate = 0.01\n",
    "dayCounter = ql.ActualActual()\n",
    "freq = ql.Quarterly\n",
    "comp = ql.Compounded\n",
    "\n",
    "ir = ql.InterestRate(rate, dayCounter, comp, freq)\n",
    "print(ir.compoundFactor(ql.Date(3,8,2020), ql.Date(9,12,2021)))"
   ]
  },
  {
   "cell_type": "markdown",
   "id": "182ba5df",
   "metadata": {},
   "source": [
    "3. Act/Act로 계산하는 분기 복리 방식의 금리호가가 1%라고 할 때, 이와 실질적으로 동등한 Act/360 반기 연속복리 방식의 금리호가는?"
   ]
  },
  {
   "cell_type": "code",
   "execution_count": 39,
   "id": "08fa9c43",
   "metadata": {
    "ExecuteTime": {
     "end_time": "2021-07-28T04:42:59.132886Z",
     "start_time": "2021-07-28T04:42:59.123912Z"
    }
   },
   "outputs": [
    {
     "name": "stdout",
     "output_type": "stream",
     "text": [
      "0.984246 % Actual/360 continuous compounding\n"
     ]
    }
   ],
   "source": [
    "rate = 0.01\n",
    "dayCounter = ql.ActualActual()\n",
    "comp = ql.Compounded\n",
    "freq = ql.Quarterly\n",
    "\n",
    "ir = ql.InterestRate(rate, dayCounter, comp, freq)\n",
    "\n",
    "new_dayCounter = ql.Actual360()\n",
    "new_comp = ql.Continuous\n",
    "new_freq = ql.Semiannual\n",
    "start_date = ql.Date(3,8,2020)\n",
    "end_date = ql.Date(9,12,2021)\n",
    "\n",
    "print(ir.equivalentRate(new_dayCounter, new_comp, new_freq,start_date, end_date))\n",
    "\n",
    "# 아래 조건으로 했을 때 위와 동등하게 실질금리를 가지려면\n",
    "# 0.98% 이자율 지급해야함."
   ]
  },
  {
   "cell_type": "markdown",
   "id": "cf91e68c",
   "metadata": {},
   "source": [
    "4. Act/360 분기 복리 방식으로 2020년 8월 3일부터 2020년 10월 10일까지의 복리계수가 1.0295라고 할때 이 복리계수에 내재된 금리는?"
   ]
  },
  {
   "cell_type": "code",
   "execution_count": 41,
   "id": "8ff59ba8",
   "metadata": {
    "ExecuteTime": {
     "end_time": "2021-07-28T04:48:00.314950Z",
     "start_time": "2021-07-28T04:48:00.309001Z"
    }
   },
   "outputs": [
    {
     "name": "stdout",
     "output_type": "stream",
     "text": [
      "10.355952 % Actual/360 Quarterly compounding\n"
     ]
    }
   ],
   "source": [
    "compoundFactor = 1.0195\n",
    "dayCounter = ql.Actual360()\n",
    "comp = ql.Compounded\n",
    "freq = ql.Quarterly\n",
    "\n",
    "\n",
    "#ir은 그냥 위에서 정의한거 그대로 쓰면 됨\n",
    "print(ir.impliedRate(compoundFactor, dayCounter, comp, freq, ql.Date(3,8,2020), ql.Date(10,10,2020)))\n",
    "\n",
    "\n",
    "#2달동안 복리계수가 1.0195이고.. 이를 제공한다고 하면 연율화하면 높아짐.\n",
    "\n",
    "\n",
    "# 복리계수만 알고 내재된 명목금리를 모른다고 할 땐 이 함수쓰면 됨"
   ]
  },
  {
   "cell_type": "code",
   "execution_count": null,
   "id": "abc0cb84",
   "metadata": {},
   "outputs": [],
   "source": []
  }
 ],
 "metadata": {
  "hide_input": false,
  "kernelspec": {
   "display_name": "Python 3",
   "language": "python",
   "name": "python3"
  },
  "language_info": {
   "codemirror_mode": {
    "name": "ipython",
    "version": 3
   },
   "file_extension": ".py",
   "mimetype": "text/x-python",
   "name": "python",
   "nbconvert_exporter": "python",
   "pygments_lexer": "ipython3",
   "version": "3.8.5"
  },
  "toc": {
   "base_numbering": 1,
   "nav_menu": {},
   "number_sections": true,
   "sideBar": true,
   "skip_h1_title": false,
   "title_cell": "Table of Contents",
   "title_sidebar": "Contents",
   "toc_cell": false,
   "toc_position": {},
   "toc_section_display": true,
   "toc_window_display": false
  },
  "varInspector": {
   "cols": {
    "lenName": 16,
    "lenType": 16,
    "lenVar": 40
   },
   "kernels_config": {
    "python": {
     "delete_cmd_postfix": "",
     "delete_cmd_prefix": "del ",
     "library": "var_list.py",
     "varRefreshCmd": "print(var_dic_list())"
    },
    "r": {
     "delete_cmd_postfix": ") ",
     "delete_cmd_prefix": "rm(",
     "library": "var_list.r",
     "varRefreshCmd": "cat(var_dic_list()) "
    }
   },
   "types_to_exclude": [
    "module",
    "function",
    "builtin_function_or_method",
    "instance",
    "_Feature"
   ],
   "window_display": false
  }
 },
 "nbformat": 4,
 "nbformat_minor": 5
}
