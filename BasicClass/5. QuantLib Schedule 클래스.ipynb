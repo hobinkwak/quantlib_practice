{
 "cells": [
  {
   "cell_type": "markdown",
   "id": "d9c526cd",
   "metadata": {},
   "source": [
    "**Schedule : 이자지급 스케줄 생성을 위한 클래스**\n",
    "\n",
    "```python\n",
    "\n",
    "ql.Schedule(Date effectiveDate,\n",
    "            Date terminationDate,\n",
    "            Period tenor, #이자지급주기\n",
    "            Calendar calendar,\n",
    "            BusinessDayConvention convention,  #중간 이자지급일자 시장관행\n",
    "            BusinessDayConvention terminationDateConvention,  #마지막 이자+원금 지급일자 시장관행  // 보통 convention 두 개 동일하게 부여\n",
    "            DateGeneration rule,   #이자지급주기를 어떻게 생성할 것인가\n",
    "            Bool endOfMonth   #True면 모든 이자지급일자를 월말 기준으로 맞춰줌\n",
    "                              #효력일자가 월말인경우만.\n",
    "           )\n",
    "\n",
    "#Functions\n",
    "ql.Schedule().nextDate(Date)\n",
    "ql.Schedule().previousDate(Date)\n",
    "\n",
    "#DateGeneration\n",
    "ql.DateGeneration.Backward\n",
    "   # 2년짜리 6개월 단위 이자지급 채권. 4번 이자지급 발생\n",
    "   # tenor가 6개월이면 만기일부터 6개월 뒤로 뒤로 뒤로\n",
    "ql.DateGeneration.Forward\n",
    "    # tenor가 6개월이면 효력일부터 6개월 6개월 6개월\n",
    "    # 효력일이 1월 4일이고, 만기일이 1월 7일이면\n",
    "    # 1월 4일 7월 4일 n+1년 1월 4일 이런식으로....\n",
    "ql.DateGeneration.Zero\n",
    "ql.DateGeneration.ThirdWednesday\n",
    "ql.DateGeneration.Twentieth\n",
    "ql.DateGeneration.TwentiethIMM\n",
    "   "
   ]
  },
  {
   "cell_type": "markdown",
   "id": "6be63405",
   "metadata": {},
   "source": [
    "- ql.Backward : 만기일부터 효력발생일까지 후진(Backward)방식으로 이자지급 스케줄 생성\n",
    "- ql.Forward :  효력발생일부터 만기일까지 전진(Forward)방식으로 이자지급 스케줄 생성\n",
    "- ql.Zero : 효력발생일과 만기일 사이에 어떠한 결제일도 존재하지 않는다.\n",
    "- ql.ThirdWednesday : 효력발생일과 만기일을 제외한 모든 중간 이자지급일을 해당 월의 세번째 수요일로 지정한다.\n",
    "- ql.Twentieth : 효력발생일을 제외한 모든 이자지급일을 해당월의 20일로 지정한다.\n",
    "- ql.TwentiethIMM : 효력발생일을 제외한 모든 이자지급일을 3,6,9,12월 20일로 지정한다."
   ]
  },
  {
   "cell_type": "code",
   "execution_count": 1,
   "id": "81b83fff",
   "metadata": {
    "ExecuteTime": {
     "end_time": "2021-08-09T15:05:08.285958Z",
     "start_time": "2021-08-09T15:05:08.217167Z"
    }
   },
   "outputs": [],
   "source": [
    "import QuantLib as ql"
   ]
  },
  {
   "cell_type": "code",
   "execution_count": 4,
   "id": "e0f8724d",
   "metadata": {
    "ExecuteTime": {
     "end_time": "2021-08-09T15:07:16.702012Z",
     "start_time": "2021-08-09T15:07:16.687055Z"
    }
   },
   "outputs": [],
   "source": [
    "effectiveDate = ql.Date(1,1,2020)\n",
    "maturityDate = ql.Date(31,12,2021)\n",
    "tenor = ql.Period(3, ql.Months)\n",
    "kr = ql.SouthKorea()\n",
    "convention = ql.ModifiedFollowing\n",
    "dateGeneration = ql.DateGeneration.Backward\n",
    "endOfMonth = False"
   ]
  },
  {
   "cell_type": "code",
   "execution_count": 5,
   "id": "18b6f93e",
   "metadata": {
    "ExecuteTime": {
     "end_time": "2021-08-09T15:07:17.645211Z",
     "start_time": "2021-08-09T15:07:17.623270Z"
    }
   },
   "outputs": [],
   "source": [
    "schedule = ql.Schedule(effectiveDate,\n",
    "                      maturityDate,\n",
    "                      tenor,\n",
    "                      kr,\n",
    "                      convention, convention,\n",
    "                      dateGeneration, endOfMonth)"
   ]
  },
  {
   "cell_type": "code",
   "execution_count": 7,
   "id": "fb55a7e7",
   "metadata": {
    "ExecuteTime": {
     "end_time": "2021-08-09T15:07:32.588899Z",
     "start_time": "2021-08-09T15:07:32.574935Z"
    }
   },
   "outputs": [
    {
     "name": "stdout",
     "output_type": "stream",
     "text": [
      "September 30th, 2021\n",
      "June 30th, 2021\n"
     ]
    }
   ],
   "source": [
    "todaysDate = ql.Date(9,8,2021)\n",
    "print(schedule.nextDate(todaysDate))\n",
    "print(schedule.previousDate(todaysDate))"
   ]
  },
  {
   "cell_type": "markdown",
   "id": "0103bfec",
   "metadata": {},
   "source": [
    "-------------------------------------"
   ]
  },
  {
   "cell_type": "markdown",
   "id": "dfda42d9",
   "metadata": {},
   "source": [
    "1. 효력발생일은 2020년 9월 10일, 만기일은 2023년 9월 13일, 이자지급빈도는 반기, 달력은 홍콩, 휴일처리 방식은 둘다 MoifiedFollowing, 지급일 생성 방식은 세번째 수요일, 월말 기준은 False로 하는 스케줄 객체 생성"
   ]
  },
  {
   "cell_type": "code",
   "execution_count": 17,
   "id": "a1215417",
   "metadata": {
    "ExecuteTime": {
     "end_time": "2021-07-28T03:08:41.956319Z",
     "start_time": "2021-07-28T03:08:41.937397Z"
    }
   },
   "outputs": [],
   "source": [
    "effectiveDate = ql.Date(10,9,2020)\n",
    "terminationDate = ql.Date(13,9,2023)\n",
    "tenor = ql.Period(ql.Semiannual)\n",
    "hk = ql.HongKong()\n",
    "convention = ql.ModifiedFollowing\n",
    "dateGeneration = ql.DateGeneration.ThirdWednesday\n",
    "endOfMonth = False\n",
    "\n",
    "\n",
    "schedule = ql.Schedule(effectiveDate, terminationDate, tenor, hk, convention,\n",
    "                      convention, dateGeneration, endOfMonth)"
   ]
  },
  {
   "cell_type": "markdown",
   "id": "c4dcbacc",
   "metadata": {},
   "source": [
    "2. 해당 객체에서 2021년 7월 5일 바로 다음 이자지급일"
   ]
  },
  {
   "cell_type": "code",
   "execution_count": 19,
   "id": "9f4f223b",
   "metadata": {
    "ExecuteTime": {
     "end_time": "2021-07-28T03:09:12.396982Z",
     "start_time": "2021-07-28T03:09:12.381460Z"
    }
   },
   "outputs": [
    {
     "data": {
      "text/plain": [
       "Date(15,9,2021)"
      ]
     },
     "execution_count": 19,
     "metadata": {},
     "output_type": "execute_result"
    }
   ],
   "source": [
    "schedule.nextDate(ql.Date(5,7,2021))"
   ]
  },
  {
   "cell_type": "markdown",
   "id": "d4e14032",
   "metadata": {},
   "source": [
    "3. 2022년 4월 3일 바로 이전 이자지급일"
   ]
  },
  {
   "cell_type": "code",
   "execution_count": 21,
   "id": "b52e0154",
   "metadata": {
    "ExecuteTime": {
     "end_time": "2021-07-28T03:09:28.868024Z",
     "start_time": "2021-07-28T03:09:28.860046Z"
    }
   },
   "outputs": [
    {
     "data": {
      "text/plain": [
       "Date(16,3,2022)"
      ]
     },
     "execution_count": 21,
     "metadata": {},
     "output_type": "execute_result"
    }
   ],
   "source": [
    "schedule.previousDate(ql.Date(3,4,2022))"
   ]
  },
  {
   "cell_type": "code",
   "execution_count": null,
   "id": "ff96317d",
   "metadata": {},
   "outputs": [],
   "source": []
  }
 ],
 "metadata": {
  "hide_input": false,
  "kernelspec": {
   "display_name": "Python 3",
   "language": "python",
   "name": "python3"
  },
  "language_info": {
   "codemirror_mode": {
    "name": "ipython",
    "version": 3
   },
   "file_extension": ".py",
   "mimetype": "text/x-python",
   "name": "python",
   "nbconvert_exporter": "python",
   "pygments_lexer": "ipython3",
   "version": "3.8.5"
  },
  "toc": {
   "base_numbering": 1,
   "nav_menu": {},
   "number_sections": true,
   "sideBar": true,
   "skip_h1_title": false,
   "title_cell": "Table of Contents",
   "title_sidebar": "Contents",
   "toc_cell": false,
   "toc_position": {},
   "toc_section_display": true,
   "toc_window_display": false
  },
  "varInspector": {
   "cols": {
    "lenName": 16,
    "lenType": 16,
    "lenVar": 40
   },
   "kernels_config": {
    "python": {
     "delete_cmd_postfix": "",
     "delete_cmd_prefix": "del ",
     "library": "var_list.py",
     "varRefreshCmd": "print(var_dic_list())"
    },
    "r": {
     "delete_cmd_postfix": ") ",
     "delete_cmd_prefix": "rm(",
     "library": "var_list.r",
     "varRefreshCmd": "cat(var_dic_list()) "
    }
   },
   "types_to_exclude": [
    "module",
    "function",
    "builtin_function_or_method",
    "instance",
    "_Feature"
   ],
   "window_display": false
  }
 },
 "nbformat": 4,
 "nbformat_minor": 5
}
