{
 "cells": [
  {
   "cell_type": "code",
   "execution_count": 1,
   "id": "d35474dd",
   "metadata": {
    "ExecuteTime": {
     "end_time": "2021-08-02T14:22:03.858712Z",
     "start_time": "2021-08-02T14:22:03.410976Z"
    }
   },
   "outputs": [],
   "source": [
    "import QuantLib as ql"
   ]
  },
  {
   "cell_type": "markdown",
   "id": "563d2e15",
   "metadata": {},
   "source": [
    "www.quantlib.org/reference\n",
    "\n",
    "http://gouthamanbalaraman.com/blog/quantlib-python-tutorials-with-examples.html"
   ]
  },
  {
   "cell_type": "markdown",
   "id": "9f8710e4",
   "metadata": {},
   "source": [
    "```python\n",
    "ql.Date(day, Month, year)\n",
    "\n",
    "# Date 클래스의 Month인자를 써줘도 됨\n",
    "ql.January\n",
    "ql.February\n",
    "...\n",
    "ql.December\n",
    "\n",
    "```"
   ]
  },
  {
   "cell_type": "code",
   "execution_count": 3,
   "id": "7eff6b1a",
   "metadata": {
    "ExecuteTime": {
     "end_time": "2021-07-28T00:56:29.370532Z",
     "start_time": "2021-07-28T00:56:29.314670Z"
    }
   },
   "outputs": [
    {
     "name": "stdout",
     "output_type": "stream",
     "text": [
      "July 16th, 2021\n",
      "July 16th, 2021\n"
     ]
    }
   ],
   "source": [
    "date1 = ql.Date(16, 7, 2021)  #금요일\n",
    "date2 = ql.Date(16, ql.July, 2021)\n",
    "print(date1)\n",
    "print(date2)"
   ]
  },
  {
   "cell_type": "markdown",
   "id": "3dfe3af1",
   "metadata": {},
   "source": [
    "```python\n",
    "ql.Date().todaysDate()\n",
    "ql.Date().weekday() #일 : 1 / 토 : 7\n",
    "ql.Date().dayOfMonth()\n",
    "ql.Date().dayOfYear() #date가 올해의 몇번쨰 날이니\n",
    "ql.Date().month()\n",
    "ql.Date().year()\n",
    "ql.Date().isLeap(Year)  #윤년이니?\n",
    "ql.Date().isEndOfMonth(Date)  #월말이니?\n",
    "ql.Date().endOfMonth(Date)\n",
    "ql.Date().nextWeekday(Date, Weekday)   \n",
    "\n",
    "# 7월의 셋째주 목요일이다~  (3, 5, 7, 2021)\n",
    "ql.Date().nthWeekday(Size, Weekday, Month, Year)\n",
    "\n",
    "```"
   ]
  },
  {
   "cell_type": "code",
   "execution_count": 3,
   "id": "10ccbb71",
   "metadata": {
    "ExecuteTime": {
     "end_time": "2021-08-02T14:23:29.847719Z",
     "start_time": "2021-08-02T14:23:29.836119Z"
    }
   },
   "outputs": [
    {
     "data": {
      "text/plain": [
       "Date(2,8,2021)"
      ]
     },
     "execution_count": 3,
     "metadata": {},
     "output_type": "execute_result"
    }
   ],
   "source": [
    "ql.Date().todaysDate()"
   ]
  },
  {
   "cell_type": "code",
   "execution_count": 4,
   "id": "03354ffb",
   "metadata": {
    "ExecuteTime": {
     "end_time": "2021-08-02T14:23:36.507151Z",
     "start_time": "2021-08-02T14:23:36.484979Z"
    }
   },
   "outputs": [
    {
     "data": {
      "text/plain": [
       "Date(2,8,2021)"
      ]
     },
     "execution_count": 4,
     "metadata": {},
     "output_type": "execute_result"
    }
   ],
   "source": [
    "date1.todaysDate()"
   ]
  },
  {
   "cell_type": "code",
   "execution_count": 6,
   "id": "bbfb7475",
   "metadata": {
    "ExecuteTime": {
     "end_time": "2021-08-02T14:23:54.382249Z",
     "start_time": "2021-08-02T14:23:54.361187Z"
    }
   },
   "outputs": [
    {
     "data": {
      "text/plain": [
       "6"
      ]
     },
     "execution_count": 6,
     "metadata": {},
     "output_type": "execute_result"
    }
   ],
   "source": [
    "date1.weekday()"
   ]
  },
  {
   "cell_type": "code",
   "execution_count": 8,
   "id": "ebb7d3ee",
   "metadata": {
    "ExecuteTime": {
     "end_time": "2021-07-28T00:58:49.153892Z",
     "start_time": "2021-07-28T00:58:49.132424Z"
    }
   },
   "outputs": [
    {
     "data": {
      "text/plain": [
       "16"
      ]
     },
     "execution_count": 8,
     "metadata": {},
     "output_type": "execute_result"
    }
   ],
   "source": [
    "date1.dayOfMonth()"
   ]
  },
  {
   "cell_type": "code",
   "execution_count": 7,
   "id": "658d6421",
   "metadata": {
    "ExecuteTime": {
     "end_time": "2021-08-02T14:24:13.270159Z",
     "start_time": "2021-08-02T14:24:13.258779Z"
    }
   },
   "outputs": [
    {
     "data": {
      "text/plain": [
       "197"
      ]
     },
     "execution_count": 7,
     "metadata": {},
     "output_type": "execute_result"
    }
   ],
   "source": [
    "date1.dayOfYear()"
   ]
  },
  {
   "cell_type": "code",
   "execution_count": 8,
   "id": "89c7afc0",
   "metadata": {
    "ExecuteTime": {
     "end_time": "2021-08-02T14:24:13.570437Z",
     "start_time": "2021-08-02T14:24:13.551482Z"
    }
   },
   "outputs": [
    {
     "name": "stdout",
     "output_type": "stream",
     "text": [
      "7\n",
      "2021\n"
     ]
    }
   ],
   "source": [
    "print(date1.month())\n",
    "print(date1.year())"
   ]
  },
  {
   "cell_type": "code",
   "execution_count": 10,
   "id": "e1ecf5f3",
   "metadata": {
    "ExecuteTime": {
     "end_time": "2021-08-02T14:25:32.482063Z",
     "start_time": "2021-08-02T14:25:32.472807Z"
    }
   },
   "outputs": [
    {
     "name": "stdout",
     "output_type": "stream",
     "text": [
      "7\n",
      "2021\n",
      "16\n"
     ]
    }
   ],
   "source": [
    "print(date1.month())\n",
    "print(date1.year())\n",
    "print(date1.dayOfMonth())"
   ]
  },
  {
   "cell_type": "code",
   "execution_count": 11,
   "id": "93fe9a48",
   "metadata": {
    "ExecuteTime": {
     "end_time": "2021-08-02T14:25:39.263094Z",
     "start_time": "2021-08-02T14:25:39.251241Z"
    }
   },
   "outputs": [
    {
     "data": {
      "text/plain": [
       "True"
      ]
     },
     "execution_count": 11,
     "metadata": {},
     "output_type": "execute_result"
    }
   ],
   "source": [
    "date1.isLeap(2020)"
   ]
  },
  {
   "cell_type": "code",
   "execution_count": 20,
   "id": "83a3c86e",
   "metadata": {
    "ExecuteTime": {
     "end_time": "2021-07-28T01:01:47.657547Z",
     "start_time": "2021-07-28T01:01:47.636133Z"
    }
   },
   "outputs": [
    {
     "name": "stdout",
     "output_type": "stream",
     "text": [
      "오늘은 July 28th, 2021\n"
     ]
    },
    {
     "data": {
      "text/plain": [
       "False"
      ]
     },
     "execution_count": 20,
     "metadata": {},
     "output_type": "execute_result"
    }
   ],
   "source": [
    "print(\"오늘은\", date1.todaysDate())\n",
    "date1.isEndOfMonth(date1.todaysDate())"
   ]
  },
  {
   "cell_type": "code",
   "execution_count": 21,
   "id": "db665678",
   "metadata": {
    "ExecuteTime": {
     "end_time": "2021-07-28T01:01:56.710271Z",
     "start_time": "2021-07-28T01:01:56.700371Z"
    }
   },
   "outputs": [
    {
     "data": {
      "text/plain": [
       "True"
      ]
     },
     "execution_count": 21,
     "metadata": {},
     "output_type": "execute_result"
    }
   ],
   "source": [
    "date1.isEndOfMonth(ql.Date(31,7,2021))"
   ]
  },
  {
   "cell_type": "code",
   "execution_count": 23,
   "id": "1ad1586f",
   "metadata": {
    "ExecuteTime": {
     "end_time": "2021-07-28T01:02:19.730880Z",
     "start_time": "2021-07-28T01:02:19.725536Z"
    }
   },
   "outputs": [
    {
     "data": {
      "text/plain": [
       "Date(31,7,2021)"
      ]
     },
     "execution_count": 23,
     "metadata": {},
     "output_type": "execute_result"
    }
   ],
   "source": [
    "date1.endOfMonth(date1.todaysDate())"
   ]
  },
  {
   "cell_type": "code",
   "execution_count": 16,
   "id": "fe2118fd",
   "metadata": {
    "ExecuteTime": {
     "end_time": "2021-08-02T14:26:28.909913Z",
     "start_time": "2021-08-02T14:26:28.894510Z"
    }
   },
   "outputs": [
    {
     "data": {
      "text/plain": [
       "Date(8,8,2021)"
      ]
     },
     "execution_count": 16,
     "metadata": {},
     "output_type": "execute_result"
    }
   ],
   "source": [
    "date1.nextWeekday(ql.Date(2,8,2021), 1)"
   ]
  },
  {
   "cell_type": "code",
   "execution_count": 25,
   "id": "c178cca4",
   "metadata": {
    "ExecuteTime": {
     "end_time": "2021-07-28T01:05:41.568615Z",
     "start_time": "2021-07-28T01:05:41.547841Z"
    }
   },
   "outputs": [
    {
     "name": "stdout",
     "output_type": "stream",
     "text": [
      "July 15th, 2021\n"
     ]
    }
   ],
   "source": [
    "#date인자 이후의 바로 다음에 오는 목요일은?\n",
    "print(date1.nextWeekday(ql.Date(14,7,2021), 5)  )"
   ]
  },
  {
   "cell_type": "code",
   "execution_count": 19,
   "id": "36c3ce39",
   "metadata": {
    "ExecuteTime": {
     "end_time": "2021-08-02T14:27:07.316051Z",
     "start_time": "2021-08-02T14:27:07.303451Z"
    }
   },
   "outputs": [
    {
     "name": "stdout",
     "output_type": "stream",
     "text": [
      "August 8th, 2021\n"
     ]
    }
   ],
   "source": [
    "print(date1.nthWeekday(2, 1, 8, 2021))"
   ]
  },
  {
   "cell_type": "code",
   "execution_count": 26,
   "id": "09d7b084",
   "metadata": {
    "ExecuteTime": {
     "end_time": "2021-07-28T01:05:47.177215Z",
     "start_time": "2021-07-28T01:05:47.159513Z"
    }
   },
   "outputs": [
    {
     "name": "stdout",
     "output_type": "stream",
     "text": [
      "July 13th, 2021\n"
     ]
    }
   ],
   "source": [
    "print(date1.nthWeekday(2, 3, 7, 2021))"
   ]
  },
  {
   "cell_type": "markdown",
   "id": "a26d0469",
   "metadata": {},
   "source": [
    "예제 \n",
    "\n",
    "2020년 10월 5일은 올해의 몇번째날?\n",
    "\n",
    "8월 3일 이후 첫 번째 일요일은 몇일?\n",
    "\n",
    "2020년 12월의 두번쨰 수요일은 몇일?"
   ]
  },
  {
   "cell_type": "code",
   "execution_count": 20,
   "id": "76416494",
   "metadata": {
    "ExecuteTime": {
     "end_time": "2021-08-02T14:28:10.941879Z",
     "start_time": "2021-08-02T14:28:10.935589Z"
    }
   },
   "outputs": [
    {
     "name": "stdout",
     "output_type": "stream",
     "text": [
      "279\n"
     ]
    }
   ],
   "source": [
    "date = ql.Date(5, 10, 2020)\n",
    "print(date.dayOfYear())"
   ]
  },
  {
   "cell_type": "code",
   "execution_count": 21,
   "id": "b62fea22",
   "metadata": {
    "ExecuteTime": {
     "end_time": "2021-08-02T14:28:48.155033Z",
     "start_time": "2021-08-02T14:28:48.151030Z"
    }
   },
   "outputs": [
    {
     "name": "stdout",
     "output_type": "stream",
     "text": [
      "August 8th, 2021\n"
     ]
    }
   ],
   "source": [
    "date = ql.Date(3, 8,2021)\n",
    "print(date.nextWeekday(date, 1))"
   ]
  },
  {
   "cell_type": "code",
   "execution_count": 23,
   "id": "bb64a266",
   "metadata": {
    "ExecuteTime": {
     "end_time": "2021-08-02T14:29:26.246385Z",
     "start_time": "2021-08-02T14:29:26.224474Z"
    }
   },
   "outputs": [
    {
     "name": "stdout",
     "output_type": "stream",
     "text": [
      "December 9th, 2020\n"
     ]
    }
   ],
   "source": [
    "print(date.nthWeekday(2, 4, 12, 2020))"
   ]
  },
  {
   "cell_type": "code",
   "execution_count": null,
   "id": "b2d2c1f7",
   "metadata": {},
   "outputs": [],
   "source": []
  }
 ],
 "metadata": {
  "hide_input": false,
  "kernelspec": {
   "display_name": "Python 3",
   "language": "python",
   "name": "python3"
  },
  "language_info": {
   "codemirror_mode": {
    "name": "ipython",
    "version": 3
   },
   "file_extension": ".py",
   "mimetype": "text/x-python",
   "name": "python",
   "nbconvert_exporter": "python",
   "pygments_lexer": "ipython3",
   "version": "3.8.5"
  },
  "toc": {
   "base_numbering": 1,
   "nav_menu": {},
   "number_sections": true,
   "sideBar": true,
   "skip_h1_title": false,
   "title_cell": "Table of Contents",
   "title_sidebar": "Contents",
   "toc_cell": false,
   "toc_position": {},
   "toc_section_display": true,
   "toc_window_display": false
  },
  "varInspector": {
   "cols": {
    "lenName": 16,
    "lenType": 16,
    "lenVar": 40
   },
   "kernels_config": {
    "python": {
     "delete_cmd_postfix": "",
     "delete_cmd_prefix": "del ",
     "library": "var_list.py",
     "varRefreshCmd": "print(var_dic_list())"
    },
    "r": {
     "delete_cmd_postfix": ") ",
     "delete_cmd_prefix": "rm(",
     "library": "var_list.r",
     "varRefreshCmd": "cat(var_dic_list()) "
    }
   },
   "types_to_exclude": [
    "module",
    "function",
    "builtin_function_or_method",
    "instance",
    "_Feature"
   ],
   "window_display": false
  }
 },
 "nbformat": 4,
 "nbformat_minor": 5
}
